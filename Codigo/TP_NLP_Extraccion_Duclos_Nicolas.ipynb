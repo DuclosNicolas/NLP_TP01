{
  "nbformat": 4,
  "nbformat_minor": 0,
  "metadata": {
    "colab": {
      "provenance": []
    },
    "kernelspec": {
      "name": "python3",
      "display_name": "Python 3"
    },
    "language_info": {
      "name": "python"
    }
  },
  "cells": [
    {
      "cell_type": "markdown",
      "source": [
        "https://drive.google.com/drive/folders/1MJL62q8wOL80e43bml0C3STYCcfl7fIZ\n",
        "\n",
        "https://github.com/Augusto-Rabbia/NLP_TP1"
      ],
      "metadata": {
        "id": "1rm7tSpnYJLb"
      }
    },
    {
      "cell_type": "code",
      "execution_count": 1,
      "metadata": {
        "id": "T0C524mrz4Gr",
        "colab": {
          "base_uri": "https://localhost:8080/"
        },
        "outputId": "20f8e06e-7f1a-4853-fdd9-f4c5f8aa4a2c",
        "collapsed": true
      },
      "outputs": [
        {
          "output_type": "stream",
          "name": "stdout",
          "text": [
            "Hit:1 http://archive.ubuntu.com/ubuntu jammy InRelease\n",
            "Get:2 http://archive.ubuntu.com/ubuntu jammy-updates InRelease [128 kB]\n",
            "Get:3 http://security.ubuntu.com/ubuntu jammy-security InRelease [129 kB]\n",
            "Get:4 https://cloud.r-project.org/bin/linux/ubuntu jammy-cran40/ InRelease [3,632 B]\n",
            "Get:5 https://developer.download.nvidia.com/compute/cuda/repos/ubuntu2204/x86_64  InRelease [1,581 B]\n",
            "Get:6 https://r2u.stat.illinois.edu/ubuntu jammy InRelease [6,555 B]\n",
            "Get:7 http://archive.ubuntu.com/ubuntu jammy-backports InRelease [127 kB]\n",
            "Hit:8 https://ppa.launchpadcontent.net/deadsnakes/ppa/ubuntu jammy InRelease\n",
            "Hit:9 https://ppa.launchpadcontent.net/graphics-drivers/ppa/ubuntu jammy InRelease\n",
            "Get:10 https://ppa.launchpadcontent.net/ubuntugis/ppa/ubuntu jammy InRelease [24.6 kB]\n",
            "Get:11 https://developer.download.nvidia.com/compute/cuda/repos/ubuntu2204/x86_64  Packages [1,683 kB]\n",
            "Get:12 https://r2u.stat.illinois.edu/ubuntu jammy/main all Packages [8,948 kB]\n",
            "Get:13 http://archive.ubuntu.com/ubuntu jammy-updates/restricted amd64 Packages [4,532 kB]\n",
            "Get:14 http://archive.ubuntu.com/ubuntu jammy-updates/main amd64 Packages [3,251 kB]\n",
            "Get:15 https://r2u.stat.illinois.edu/ubuntu jammy/main amd64 Packages [2,726 kB]\n",
            "Get:16 http://archive.ubuntu.com/ubuntu jammy-updates/universe amd64 Packages [1,547 kB]\n",
            "Get:17 http://archive.ubuntu.com/ubuntu jammy-backports/universe amd64 Packages [35.2 kB]\n",
            "Get:18 http://archive.ubuntu.com/ubuntu jammy-backports/main amd64 Packages [83.2 kB]\n",
            "Get:19 http://security.ubuntu.com/ubuntu jammy-security/restricted amd64 Packages [4,363 kB]\n",
            "Get:20 http://security.ubuntu.com/ubuntu jammy-security/main amd64 Packages [2,934 kB]\n",
            "Get:21 https://ppa.launchpadcontent.net/ubuntugis/ppa/ubuntu jammy/main amd64 Packages [77.3 kB]\n",
            "Fetched 30.6 MB in 12s (2,607 kB/s)\n",
            "Reading package lists... Done\n",
            "W: Skipping acquire of configured file 'main/source/Sources' as repository 'https://r2u.stat.illinois.edu/ubuntu jammy InRelease' does not seem to provide it (sources.list entry misspelt?)\n",
            "Collecting selenium\n",
            "  Downloading selenium-4.32.0-py3-none-any.whl.metadata (7.5 kB)\n",
            "Collecting webdriver-manager\n",
            "  Downloading webdriver_manager-4.0.2-py2.py3-none-any.whl.metadata (12 kB)\n",
            "Requirement already satisfied: flask in /usr/local/lib/python3.11/dist-packages (3.1.1)\n",
            "Requirement already satisfied: urllib3<3,>=1.26 in /usr/local/lib/python3.11/dist-packages (from urllib3[socks]<3,>=1.26->selenium) (2.4.0)\n",
            "Collecting trio~=0.17 (from selenium)\n",
            "  Downloading trio-0.30.0-py3-none-any.whl.metadata (8.5 kB)\n",
            "Collecting trio-websocket~=0.9 (from selenium)\n",
            "  Downloading trio_websocket-0.12.2-py3-none-any.whl.metadata (5.1 kB)\n",
            "Requirement already satisfied: certifi>=2021.10.8 in /usr/local/lib/python3.11/dist-packages (from selenium) (2025.4.26)\n",
            "Requirement already satisfied: typing_extensions~=4.9 in /usr/local/lib/python3.11/dist-packages (from selenium) (4.13.2)\n",
            "Requirement already satisfied: websocket-client~=1.8 in /usr/local/lib/python3.11/dist-packages (from selenium) (1.8.0)\n",
            "Requirement already satisfied: requests in /usr/local/lib/python3.11/dist-packages (from webdriver-manager) (2.32.3)\n",
            "Collecting python-dotenv (from webdriver-manager)\n",
            "  Downloading python_dotenv-1.1.0-py3-none-any.whl.metadata (24 kB)\n",
            "Requirement already satisfied: packaging in /usr/local/lib/python3.11/dist-packages (from webdriver-manager) (24.2)\n",
            "Requirement already satisfied: blinker>=1.9.0 in /usr/local/lib/python3.11/dist-packages (from flask) (1.9.0)\n",
            "Requirement already satisfied: click>=8.1.3 in /usr/local/lib/python3.11/dist-packages (from flask) (8.2.0)\n",
            "Requirement already satisfied: itsdangerous>=2.2.0 in /usr/local/lib/python3.11/dist-packages (from flask) (2.2.0)\n",
            "Requirement already satisfied: jinja2>=3.1.2 in /usr/local/lib/python3.11/dist-packages (from flask) (3.1.6)\n",
            "Requirement already satisfied: markupsafe>=2.1.1 in /usr/local/lib/python3.11/dist-packages (from flask) (3.0.2)\n",
            "Requirement already satisfied: werkzeug>=3.1.0 in /usr/local/lib/python3.11/dist-packages (from flask) (3.1.3)\n",
            "Requirement already satisfied: attrs>=23.2.0 in /usr/local/lib/python3.11/dist-packages (from trio~=0.17->selenium) (25.3.0)\n",
            "Requirement already satisfied: sortedcontainers in /usr/local/lib/python3.11/dist-packages (from trio~=0.17->selenium) (2.4.0)\n",
            "Requirement already satisfied: idna in /usr/local/lib/python3.11/dist-packages (from trio~=0.17->selenium) (3.10)\n",
            "Collecting outcome (from trio~=0.17->selenium)\n",
            "  Downloading outcome-1.3.0.post0-py2.py3-none-any.whl.metadata (2.6 kB)\n",
            "Requirement already satisfied: sniffio>=1.3.0 in /usr/local/lib/python3.11/dist-packages (from trio~=0.17->selenium) (1.3.1)\n",
            "Collecting wsproto>=0.14 (from trio-websocket~=0.9->selenium)\n",
            "  Downloading wsproto-1.2.0-py3-none-any.whl.metadata (5.6 kB)\n",
            "Requirement already satisfied: pysocks!=1.5.7,<2.0,>=1.5.6 in /usr/local/lib/python3.11/dist-packages (from urllib3[socks]<3,>=1.26->selenium) (1.7.1)\n",
            "Requirement already satisfied: charset-normalizer<4,>=2 in /usr/local/lib/python3.11/dist-packages (from requests->webdriver-manager) (3.4.2)\n",
            "Requirement already satisfied: h11<1,>=0.9.0 in /usr/local/lib/python3.11/dist-packages (from wsproto>=0.14->trio-websocket~=0.9->selenium) (0.16.0)\n",
            "Downloading selenium-4.32.0-py3-none-any.whl (9.4 MB)\n",
            "\u001b[2K   \u001b[90m━━━━━━━━━━━━━━━━━━━━━━━━━━━━━━━━━━━━━━━━\u001b[0m \u001b[32m9.4/9.4 MB\u001b[0m \u001b[31m52.1 MB/s\u001b[0m eta \u001b[36m0:00:00\u001b[0m\n",
            "\u001b[?25hDownloading webdriver_manager-4.0.2-py2.py3-none-any.whl (27 kB)\n",
            "Downloading trio-0.30.0-py3-none-any.whl (499 kB)\n",
            "\u001b[2K   \u001b[90m━━━━━━━━━━━━━━━━━━━━━━━━━━━━━━━━━━━━━━━━\u001b[0m \u001b[32m499.2/499.2 kB\u001b[0m \u001b[31m18.1 MB/s\u001b[0m eta \u001b[36m0:00:00\u001b[0m\n",
            "\u001b[?25hDownloading trio_websocket-0.12.2-py3-none-any.whl (21 kB)\n",
            "Downloading python_dotenv-1.1.0-py3-none-any.whl (20 kB)\n",
            "Downloading outcome-1.3.0.post0-py2.py3-none-any.whl (10 kB)\n",
            "Downloading wsproto-1.2.0-py3-none-any.whl (24 kB)\n",
            "Installing collected packages: wsproto, python-dotenv, outcome, webdriver-manager, trio, trio-websocket, selenium\n",
            "Successfully installed outcome-1.3.0.post0 python-dotenv-1.1.0 selenium-4.32.0 trio-0.30.0 trio-websocket-0.12.2 webdriver-manager-4.0.2 wsproto-1.2.0\n"
          ]
        }
      ],
      "source": [
        "!apt-get update\n",
        "!pip install selenium webdriver-manager flask"
      ]
    },
    {
      "cell_type": "code",
      "execution_count": 2,
      "metadata": {
        "id": "4aAFbXsqK5vI",
        "colab": {
          "base_uri": "https://localhost:8080/"
        },
        "outputId": "78380b2e-0da4-4677-ab91-de109b860777",
        "collapsed": true
      },
      "outputs": [
        {
          "output_type": "stream",
          "name": "stdout",
          "text": [
            "--2025-05-19 18:02:49--  https://chromedriver.storage.googleapis.com/114.0.5735.90/chromedriver_linux64.zip\n",
            "Resolving chromedriver.storage.googleapis.com (chromedriver.storage.googleapis.com)... 209.85.145.207, 173.194.64.207, 142.250.125.207, ...\n",
            "Connecting to chromedriver.storage.googleapis.com (chromedriver.storage.googleapis.com)|209.85.145.207|:443... connected.\n",
            "HTTP request sent, awaiting response... 200 OK\n",
            "Length: 7407250 (7.1M) [application/zip]\n",
            "Saving to: ‘chromedriver_linux64.zip’\n",
            "\n",
            "\rchromedriver_linux6   0%[                    ]       0  --.-KB/s               \rchromedriver_linux6 100%[===================>]   7.06M  --.-KB/s    in 0.03s   \n",
            "\n",
            "2025-05-19 18:02:49 (232 MB/s) - ‘chromedriver_linux64.zip’ saved [7407250/7407250]\n",
            "\n",
            "Archive:  chromedriver_linux64.zip\n",
            "  inflating: chromedriver            \n",
            "  inflating: LICENSE.chromedriver    \n"
          ]
        }
      ],
      "source": [
        "# Descargar ChromeDriver\n",
        "!wget https://chromedriver.storage.googleapis.com/114.0.5735.90/chromedriver_linux64.zip\n",
        "\n",
        "# Descomprimir ChromeDriver\n",
        "!unzip chromedriver_linux64.zip"
      ]
    },
    {
      "cell_type": "code",
      "execution_count": 3,
      "metadata": {
        "id": "lQs9SBGBLCBv"
      },
      "outputs": [],
      "source": [
        "from selenium.webdriver.chrome.service import Service\n",
        "from selenium.webdriver.chrome.options import Options\n",
        "\n",
        "# Configuración más detallada de las opciones de Chrome\n",
        "chrome_options = Options()\n",
        "chrome_options.add_argument('--headless')\n",
        "chrome_options.add_argument('--no-sandbox')\n",
        "chrome_options.add_argument('--disable-dev-shm-usage')\n",
        "chrome_options.add_argument('--disable-gpu')\n",
        "\n",
        "# Configurar la ruta del driver\n",
        "service = Service('/usr/bin/chromedriver')"
      ]
    },
    {
      "cell_type": "code",
      "source": [
        "import os\n",
        "os.makedirs('../datos/informacion', exist_ok=True)\n",
        "os.makedirs('../datos/estadisticas', exist_ok=True)\n",
        "os.makedirs('../datos/relaciones', exist_ok=True)"
      ],
      "metadata": {
        "id": "io52I8rX0h4F"
      },
      "execution_count": 4,
      "outputs": []
    },
    {
      "cell_type": "markdown",
      "metadata": {
        "id": "gSRJaH2XhFaT"
      },
      "source": [
        "### Loguearse en la página"
      ]
    },
    {
      "cell_type": "code",
      "execution_count": 5,
      "metadata": {
        "id": "MTjlKCdxXPAj"
      },
      "outputs": [],
      "source": [
        "from selenium import webdriver\n",
        "from selenium.webdriver.common.by import By\n",
        "from selenium.webdriver.support.ui import WebDriverWait\n",
        "import time\n",
        "\n",
        "# --- OPCIONES DEL NAVEGADOR ---\n",
        "options = Options()\n",
        "\n",
        "options.add_argument(\"--headless\")\n",
        "options.add_argument(\"--disable-gpu\")\n",
        "options.add_argument(\"--start-maximized\")  # Abrir en ventana maximizada\n",
        "options.add_argument(\"--window-size=1920,1080\")  # Tamaño fijo opcional\n",
        "\n",
        "# --- INICIALIZAR CHROME ---\n",
        "driver = webdriver.Chrome(options=chrome_options)\n",
        "\n",
        "# --- ABRIR UNA PÁGINA ---\n",
        "driver.get(\"https://boardgamegeek.com/boardgame/265736/tiny-towns\")\n",
        "\n",
        "# El botón para abrir el formulario de login tiene el ID 'login_button'\n",
        "wait = WebDriverWait(driver, 10)\n",
        "login_button = driver.find_element(By.CSS_SELECTOR, 'button[login-required]')\n",
        "login_button.click()\n",
        "\n",
        "# Rellenar el formulario de inicio de sesión\n",
        "# Encontrar los campos de usuario y contraseña (ajustar según la página)\n",
        "username_field = driver.find_element(By.ID, 'inputUsername')\n",
        "password_field = driver.find_element(By.ID, 'inputPassword')\n",
        "\n",
        "username_field.send_keys('nlp2025')\n",
        "password_field.send_keys('nlp2025')\n",
        "\n",
        "# Enviar el formulario (presionar Enter o el botón de login)\n",
        "#password_field.send_keys(Keys.RETURN)\n",
        "\n",
        "# O también podrías encontrar el botón de login y hacer click:\n",
        "# login_submit_button = driver.find_element(By.ID, 'submit_login')\n",
        "# login_submit_button.click()\n",
        "\n",
        "# Esperar unos segundos para que la página cargue después del login\n",
        "time.sleep(5)"
      ]
    },
    {
      "cell_type": "markdown",
      "source": [
        "###Función para contar caracteres"
      ],
      "metadata": {
        "id": "SBLTxp_g0Wc0"
      }
    },
    {
      "cell_type": "code",
      "execution_count": 6,
      "metadata": {
        "id": "_qkFiDavXPAk"
      },
      "outputs": [],
      "source": [
        "#Funcion para contar la cantidad de caracteres luego de las extracciones.\n",
        "def contarCaracteres(texto):\n",
        "    texto_limpio = texto.replace(\" \", \"\").replace(\"\\n\", \"\").replace(\"\\t\", \"\")\n",
        "\n",
        "    return len(texto_limpio)\n",
        "\n",
        "caracteres = 0"
      ]
    },
    {
      "cell_type": "markdown",
      "source": [
        "##Extracción de Estadísticas"
      ],
      "metadata": {
        "id": "Z65TvNTLLOZA"
      }
    },
    {
      "cell_type": "markdown",
      "source": [
        "Decidi reutilizar el codigo de la primer parte para descargar nuevamente las estadisticas y los creditos porque considere que habia menos informacion de la cosidero necesario para poder realizar las consignas"
      ],
      "metadata": {
        "id": "m1QCxc_5AhTf"
      }
    },
    {
      "cell_type": "markdown",
      "metadata": {
        "id": "SZOrxXWDXPAo"
      },
      "source": [
        "### Stats"
      ]
    },
    {
      "cell_type": "code",
      "execution_count": 7,
      "metadata": {
        "colab": {
          "base_uri": "https://localhost:8080/"
        },
        "id": "Y5LSWJsJXPAp",
        "outputId": "be2a8e13-8487-4a38-ba89-0e6946222a0d"
      },
      "outputs": [
        {
          "output_type": "stream",
          "name": "stdout",
          "text": [
            "Requirement already satisfied: beautifulsoup4 in /usr/local/lib/python3.11/dist-packages (4.13.4)\n",
            "Requirement already satisfied: requests in /usr/local/lib/python3.11/dist-packages (2.32.3)\n",
            "Requirement already satisfied: soupsieve>1.2 in /usr/local/lib/python3.11/dist-packages (from beautifulsoup4) (2.7)\n",
            "Requirement already satisfied: typing-extensions>=4.0.0 in /usr/local/lib/python3.11/dist-packages (from beautifulsoup4) (4.13.2)\n",
            "Requirement already satisfied: charset-normalizer<4,>=2 in /usr/local/lib/python3.11/dist-packages (from requests) (3.4.2)\n",
            "Requirement already satisfied: idna<4,>=2.5 in /usr/local/lib/python3.11/dist-packages (from requests) (3.10)\n",
            "Requirement already satisfied: urllib3<3,>=1.21.1 in /usr/local/lib/python3.11/dist-packages (from requests) (2.4.0)\n",
            "Requirement already satisfied: certifi>=2017.4.17 in /usr/local/lib/python3.11/dist-packages (from requests) (2025.4.26)\n"
          ]
        }
      ],
      "source": [
        "pip install beautifulsoup4 requests"
      ]
    },
    {
      "cell_type": "code",
      "execution_count": 8,
      "metadata": {
        "id": "dH8JyfYGXPAp"
      },
      "outputs": [],
      "source": [
        "import requests\n",
        "from bs4 import BeautifulSoup\n",
        "import pandas as pd\n",
        "import time"
      ]
    },
    {
      "cell_type": "code",
      "execution_count": 9,
      "metadata": {
        "colab": {
          "base_uri": "https://localhost:8080/"
        },
        "id": "-d-6kPbNXPAp",
        "outputId": "5a99cec8-2564-4923-f956-319822298f85"
      },
      "outputs": [
        {
          "output_type": "stream",
          "name": "stdout",
          "text": [
            "            Título                    Descripción\n",
            "0      Avg. Rating                          7.211\n",
            "1   No. of Ratings                         20,791\n",
            "2   Std. Deviation                           1.19\n",
            "3           Weight                        2.06/ 5\n",
            "4         Comments                          3,047\n",
            "5             Fans                          1,022\n",
            "6       Page Views                      1,146,926\n",
            "7     Overall Rank             464Historical Rank\n",
            "8      Family Rank             121Historical Rank\n",
            "9   All Time Plays                         96,884\n",
            "10      This Month                            473\n",
            "11             Own                         34,241\n",
            "12     Prev. Owned                          4,267\n",
            "13       For Trade      668Find For-Trade Matches\n",
            "14   Want In Trade  498Find Want-in-Trade Matches\n",
            "15        Wishlist                          5,652\n",
            "16       Has Parts                             18\n",
            "17      Want Parts                              5\n"
          ]
        }
      ],
      "source": [
        "url = 'https://boardgamegeek.com/boardgame/265736/tiny-towns/stats'\n",
        "\n",
        "# Abrir la página web\n",
        "driver.get(url)\n",
        "\n",
        "# Esperar a que la página cargue completamente\n",
        "time.sleep(3)  # Ajusta el tiempo de espera según sea necesario\n",
        "\n",
        "# Obtener el contenido de la página\n",
        "page_source = driver.page_source\n",
        "\n",
        "# Usar BeautifulSoup para analizar el contenido de la página\n",
        "soup = BeautifulSoup(page_source, 'html.parser')\n",
        "\n",
        "# Encontrar todos los elementos con la clase 'outline-item-title' y 'outline-item-description'\n",
        "titles = soup.find_all(class_='outline-item-title')\n",
        "descriptions = soup.find_all(class_='outline-item-description')\n",
        "\n",
        "# Preparar listas para almacenar los datos\n",
        "data = []\n",
        "\n",
        "# Extraer datos y agregarlos a la lista\n",
        "for title, description in zip(titles, descriptions):\n",
        "    title_text = title.get_text(strip=True)\n",
        "    description_text = description.get_text(strip=True)\n",
        "    data.append({'Título': title_text, 'Descripción': description_text})\n",
        "\n",
        "# Crear un DataFrame a partir de los datos\n",
        "df = pd.DataFrame(data)\n",
        "\n",
        "# Mostrar el DataFrame\n",
        "print(df)\n",
        "\n",
        "# Guardar el DataFrame en un archivo CSV (opcional)\n",
        "df.to_csv('../datos/estadisticas/boardgame_data.csv', index=False, encoding='utf-8')"
      ]
    },
    {
      "cell_type": "code",
      "execution_count": 45,
      "metadata": {
        "id": "O02Oci0Dr5kr"
      },
      "outputs": [],
      "source": [
        "driver.get('https://boardgamegeek.com/boardgame/265736/tiny-towns/credits')\n",
        "\n",
        "#Extraccion de datos del juego.\n",
        "datos_juego = []\n",
        "\n",
        "items = driver.find_elements(By.CLASS_NAME, 'outline-item')\n",
        "for item in items:\n",
        "    datos_juego.append(item.text)\n",
        "\n",
        "game_header = driver.find_elements(By.CLASS_NAME, 'gameplay-item-primary')\n",
        "for header in game_header:\n",
        "    datos_juego.append(header.text)\n",
        "\n",
        "for i in range(0,len(datos_juego)):\n",
        "    datos_juego[i] = datos_juego[i].replace('\\n', ' ')\n",
        "    datos_juego[i] = datos_juego[i].replace('Complexity Rating', '')\n",
        "\n",
        "datos = pd.DataFrame([{\n",
        "    'Nombre Primario': datos_juego[0].replace(\"Primary Name \", \"\"),\n",
        "    'Nombres Alternativos': datos_juego[1].replace(\"Alternate Names \", \"\"),\n",
        "    'Lanzamiento': datos_juego[2].replace(\"Year Released \", \"\"),\n",
        "    'Diseñador': datos_juego[3].replace(\"Designer \", \"\"),\n",
        "    'Publicado por': datos_juego[5].replace(\"Publisher \", \"\"),\n",
        "    'Editor': datos_juego[10].replace(\"Editor \", \"\"),\n",
        "    'Insert Designers': datos_juego[12].replace(\"Insert Designers\",\"\"),\n",
        "    'Categorias': datos_juego[13].replace(\"Categories \",\"\"),\n",
        "    'Mecanismos': datos_juego[14].replace(\"Mechanics \",\"\"),\n",
        "    'Familia': datos_juego[15].replace(\"Family \",\"\"),\n",
        "    'Jugadores': datos_juego[16].replace(\" Players\",\"\"),\n",
        "    'Tiempo de juego': datos_juego[17],\n",
        "    'Edad': datos_juego[18].replace(\"Age: \",\"\"),\n",
        "    'Complejidad': datos_juego[19].replace(\"Weight: \",\"\")\n",
        "}])"
      ]
    },
    {
      "cell_type": "code",
      "execution_count": 46,
      "metadata": {
        "id": "nrEZyB9SzFfm"
      },
      "outputs": [],
      "source": [
        "datos.to_csv('../datos/estadisticas/credits.csv', index=False, encoding='utf-8')"
      ]
    },
    {
      "cell_type": "markdown",
      "metadata": {
        "id": "0IMHXhOcXPAs"
      },
      "source": [
        "### Ratings"
      ]
    },
    {
      "cell_type": "code",
      "execution_count": 12,
      "metadata": {
        "colab": {
          "base_uri": "https://localhost:8080/"
        },
        "id": "oTfOYUMDXPAs",
        "outputId": "c02660d4-3d42-4f57-db9a-dc81054527dc"
      },
      "outputs": [
        {
          "output_type": "stream",
          "name": "stdout",
          "text": [
            "Cargando página 1...\n",
            "Cargando página 2...\n",
            "Cargando página 3...\n",
            "Cargando página 4...\n",
            "Cargando página 5...\n",
            "Cargando página 6...\n",
            "Cargando página 7...\n",
            "Cargando página 8...\n",
            "Cargando página 9...\n",
            "Cargando página 10...\n",
            "Cargando página 11...\n",
            "Cargando página 12...\n",
            "Cargando página 13...\n",
            "Cargando página 14...\n",
            "Cargando página 15...\n",
            "Cargando página 16...\n",
            "Cargando página 17...\n",
            "Cargando página 18...\n",
            "Cargando página 19...\n",
            "Cargando página 20...\n",
            "Cargando página 21...\n",
            "Cargando página 22...\n",
            "Cargando página 23...\n",
            "Cargando página 24...\n",
            "Cargando página 25...\n",
            "Cargando página 26...\n",
            "Cargando página 27...\n",
            "Cargando página 28...\n",
            "Cargando página 29...\n",
            "Cargando página 30...\n",
            "Cargando página 31...\n",
            "Cargando página 32...\n",
            "Cargando página 33...\n",
            "Cargando página 34...\n",
            "Cargando página 35...\n",
            "Cargando página 36...\n",
            "Cargando página 37...\n",
            "Cargando página 38...\n",
            "Cargando página 39...\n",
            "Cargando página 40...\n",
            "Cargando página 41...\n",
            "Cargando página 42...\n",
            "  puntaje                                             reseña\n",
            "0       9  Beautiful, simple game of strategically arrang...\n",
            "1     5.5  This game feels like it will often end with re...\n",
            "2          1-6p (3b), 60m, 2c, city building. Won 2020 Be...\n",
            "3     6.8  Great and plenty of replayability with the bas...\n",
            "4       8  *\\nThe only game I know of that plays equally ...\n"
          ]
        }
      ],
      "source": [
        "base_url = \"https://boardgamegeek.com/boardgame/265736/tiny-towns/ratings\"\n",
        "total_needed = 500  # Cambia esto según cuántas reseñas quieres\n",
        "collected = 0\n",
        "pageid = 1\n",
        "\n",
        "banderas_validas = [\n",
        "    \"United States Flag\",\n",
        "    \"Canada Flag\",\n",
        "    \"United Kingdom Flag\"\n",
        "]\n",
        "\n",
        "resultados = []\n",
        "\n",
        "while collected < total_needed:\n",
        "    url = f\"{base_url}?pageid={pageid}&comment=1\" if pageid > 1 else base_url\n",
        "    print(f'Cargando página {pageid}...')\n",
        "    driver.get(url)\n",
        "    time.sleep(3)  # Ajusta según sea necesario\n",
        "\n",
        "    # Encuentra todos los bloques de comentarios\n",
        "    items = driver.find_elements(By.CSS_SELECTOR, 'li.summary-item.summary-rating-item')\n",
        "\n",
        "    found_on_page = 0\n",
        "    for item in items:\n",
        "        try:\n",
        "            # --- Comentario ---\n",
        "            comentario_tag = item.find_element(By.CSS_SELECTOR, 'p.mb-0.ng-binding.ng-scope')\n",
        "            comentario_texto = comentario_tag.get_attribute('innerText').strip()\n",
        "            palabras = comentario_texto.split()\n",
        "            if len(palabras) <= 10:\n",
        "                continue\n",
        "\n",
        "            # --- Bandera (país) ---\n",
        "            try:\n",
        "                bandera_img = item.find_element(By.CSS_SELECTOR, '.comment-header-location-flag img')\n",
        "                bandera_alt = bandera_img.get_attribute('alt')\n",
        "            except:\n",
        "                bandera_alt = None\n",
        "\n",
        "            if bandera_alt not in banderas_validas:\n",
        "                continue\n",
        "\n",
        "            # --- Rating ---\n",
        "            try:\n",
        "                rating_tag = item.find_element(By.CSS_SELECTOR, '.summary-item-callout .rating-angular')\n",
        "                rating = rating_tag.text.strip()\n",
        "            except:\n",
        "                rating = None\n",
        "\n",
        "            resultados.append({\n",
        "                'puntaje': rating,\n",
        "                'reseña': comentario_texto\n",
        "            })\n",
        "            collected += 1\n",
        "            found_on_page += 1\n",
        "\n",
        "            if collected >= total_needed:\n",
        "                break\n",
        "        except Exception as err:\n",
        "            continue\n",
        "\n",
        "    if found_on_page == 0:\n",
        "        print(\"No se encontraron comentarios válidos en esta página, deteniendo la búsqueda.\")\n",
        "        break\n",
        "\n",
        "    pageid += 1\n",
        "\n",
        "# Crea el DataFrame\n",
        "df = pd.DataFrame(resultados)\n",
        "print(df.head())"
      ]
    },
    {
      "cell_type": "code",
      "execution_count": 13,
      "metadata": {
        "id": "llQh5hf-XPAt"
      },
      "outputs": [],
      "source": [
        "df.to_csv('../datos/estadisticas/reseñas_Tiny_Towns.csv', index = False)"
      ]
    },
    {
      "cell_type": "markdown",
      "source": [
        "#Extracción Información"
      ],
      "metadata": {
        "id": "njq5JVA0zjY9"
      }
    },
    {
      "cell_type": "markdown",
      "metadata": {
        "id": "3GzUIkEIfs7w"
      },
      "source": [
        "## Extraccion de overview:"
      ]
    },
    {
      "cell_type": "code",
      "execution_count": 14,
      "metadata": {
        "id": "KQh8Yu4thd5X"
      },
      "outputs": [],
      "source": [
        "driver.get('https://boardgamegeek.com/boardgame/265736/tiny-towns')\n",
        "\n",
        "#Extraccion de la descripcion del juego.\n",
        "body_descripcion = driver.find_element(By.CLASS_NAME, 'expandable-body')\n",
        "parrafos = body_descripcion.find_elements(By.TAG_NAME, 'p')\n",
        "descripcion = \"\\n\".join([parrafo.text for parrafo in parrafos]).replace('!', 'TinyTowns!')"
      ]
    },
    {
      "cell_type": "code",
      "execution_count": 15,
      "metadata": {
        "id": "6D1evPF5XPAm"
      },
      "outputs": [],
      "source": [
        "def stringToTxt(string, nombre):\n",
        "    archivo = open(nombre, \"w\")\n",
        "    archivo.write(string)\n",
        "    archivo.close()"
      ]
    },
    {
      "cell_type": "code",
      "execution_count": 16,
      "metadata": {
        "id": "73YbZ9O75Ovk"
      },
      "outputs": [],
      "source": [
        "stringToTxt(descripcion, \"../datos/informacion/descripcion_juego.txt\")"
      ]
    },
    {
      "cell_type": "code",
      "execution_count": 17,
      "metadata": {
        "id": "YdJlCLn2XPAn"
      },
      "outputs": [],
      "source": [
        "caracteres = 0\n",
        "caracteres += contarCaracteres(descripcion)\n",
        "caracteres_descripcion_juego = caracteres"
      ]
    },
    {
      "cell_type": "code",
      "execution_count": 18,
      "metadata": {
        "colab": {
          "base_uri": "https://localhost:8080/"
        },
        "id": "Pwp9zbEdXPAo",
        "outputId": "08d3c689-f478-465b-aec0-86ee86a716c2"
      },
      "outputs": [
        {
          "output_type": "stream",
          "name": "stdout",
          "text": [
            "Cantidad de caracteres: 693\n"
          ]
        }
      ],
      "source": [
        "print(f\"Cantidad de caracteres: {caracteres_descripcion_juego}\")"
      ]
    },
    {
      "cell_type": "markdown",
      "metadata": {
        "id": "o4hf81Abhakt"
      },
      "source": [
        "## Extracción de foros:"
      ]
    },
    {
      "cell_type": "markdown",
      "metadata": {
        "id": "XADE5kX0pZrJ"
      },
      "source": [
        "### Variants"
      ]
    },
    {
      "cell_type": "code",
      "execution_count": 19,
      "metadata": {
        "id": "tIiktWishdw2"
      },
      "outputs": [],
      "source": [
        "#URL de los foros de Variants.\n",
        "url_foro = \"https://boardgamegeek.com/boardgame/265736/tiny-towns/forums/69\"\n",
        "driver.get(url_foro)\n",
        "time.sleep(3)\n",
        "\n",
        "hilos = driver.find_elements(By.CSS_SELECTOR, \"a[href^='/thread/']\")  # todos los <a> que empiezan con /thread/\n",
        "\n",
        "links_hilos = []\n",
        "for hilo in hilos:\n",
        "    link = hilo.get_attribute('href')\n",
        "    if link:  # asegurar que no sea None\n",
        "        link_completo = \"https://boardgamegeek.com\" + link if link.startswith(\"/thread/\") else link\n",
        "        links_hilos.append(link_completo)\n",
        "\n",
        "#Eliminar los links repetidos\n",
        "links_unicos = list(set(links_hilos))"
      ]
    },
    {
      "cell_type": "code",
      "execution_count": 20,
      "metadata": {
        "id": "imKLyaMvo99F"
      },
      "outputs": [],
      "source": [
        "textos_foros_variants = []\n",
        "\n",
        "for link in links_unicos:\n",
        "    driver.get(link)\n",
        "    time.sleep(2)\n",
        "\n",
        "    posts = driver.find_elements(By.TAG_NAME, \"gg-markup-safe-html\")\n",
        "\n",
        "    for post in posts:\n",
        "        texto = post.text.strip()\n",
        "        if texto:\n",
        "            textos_foros_variants.append(texto)\n",
        "\n",
        "textos_foros_variants = list(set(textos_foros_variants))"
      ]
    },
    {
      "cell_type": "code",
      "execution_count": 21,
      "metadata": {
        "id": "xfMjiuCQsIBr"
      },
      "outputs": [],
      "source": [
        "with open('../datos/informacion/texto_foros_variants.txt', 'w', encoding='utf-8') as archivo:\n",
        "    for linea in textos_foros_variants:\n",
        "        archivo.write(linea + '\\n')  # Escribir cada string en una nueva línea"
      ]
    },
    {
      "cell_type": "code",
      "execution_count": 22,
      "metadata": {
        "id": "MgBL7YD-XPAv"
      },
      "outputs": [],
      "source": [
        "caracteres = 0\n",
        "for texto in textos_foros_variants:\n",
        "    caracteres += contarCaracteres(texto)\n",
        "    caracteres_foro_variants = caracteres"
      ]
    },
    {
      "cell_type": "code",
      "execution_count": 23,
      "metadata": {
        "colab": {
          "base_uri": "https://localhost:8080/"
        },
        "id": "dq7Q4rSlXPAw",
        "outputId": "b3263292-a322-4233-fba2-9469347440c0"
      },
      "outputs": [
        {
          "output_type": "stream",
          "name": "stdout",
          "text": [
            "Cantidad de caracteres: 47783\n"
          ]
        }
      ],
      "source": [
        "print(f\"Cantidad de caracteres: {caracteres_foro_variants}\")"
      ]
    },
    {
      "cell_type": "markdown",
      "metadata": {
        "id": "VkItrPSPpcY3"
      },
      "source": [
        "### Strategy"
      ]
    },
    {
      "cell_type": "code",
      "execution_count": 24,
      "metadata": {
        "id": "yC_hpvgXpi5A"
      },
      "outputs": [],
      "source": [
        "#URL de los foros de Strategy.\n",
        "url_foro = \"https://boardgamegeek.com/boardgame/265736/tiny-towns/forums/67\"\n",
        "driver.get(url_foro)\n",
        "time.sleep(3)\n",
        "\n",
        "hilos = driver.find_elements(By.CSS_SELECTOR, \"a[href^='/thread/']\")  # todos los <a> que empiezan con /thread/\n",
        "\n",
        "links_hilos = []\n",
        "for hilo in hilos:\n",
        "    link = hilo.get_attribute('href')\n",
        "    if link:  # asegurar que no sea None\n",
        "        link_completo = \"https://boardgamegeek.com\" + link if link.startswith(\"/thread/\") else link\n",
        "        links_hilos.append(link_completo)\n",
        "\n",
        "#Eliminar los links repetidos\n",
        "links_unicos = list(set(links_hilos))"
      ]
    },
    {
      "cell_type": "code",
      "execution_count": 25,
      "metadata": {
        "id": "zNzfn1LKprpt"
      },
      "outputs": [],
      "source": [
        "textos_foros_strategy = []\n",
        "\n",
        "for link in links_unicos:\n",
        "    driver.get(link)\n",
        "    time.sleep(2)\n",
        "\n",
        "    posts = driver.find_elements(By.TAG_NAME, \"gg-markup-safe-html\")\n",
        "\n",
        "    for post in posts:\n",
        "        texto = post.text.strip()\n",
        "        if texto:\n",
        "            textos_foros_strategy.append(texto)\n",
        "\n",
        "textos_foros_strategy = list(set(textos_foros_strategy))"
      ]
    },
    {
      "cell_type": "code",
      "execution_count": 26,
      "metadata": {
        "id": "xXlH49AEr_Rh"
      },
      "outputs": [],
      "source": [
        "with open('../datos/informacion/texto_foros_strategy.txt', 'w', encoding='utf-8') as archivo:\n",
        "    for linea in textos_foros_strategy:\n",
        "        archivo.write(linea + '\\n')  # Escribir cada string en una nueva línea"
      ]
    },
    {
      "cell_type": "code",
      "execution_count": 27,
      "metadata": {
        "id": "0KjwSj4qXPAy"
      },
      "outputs": [],
      "source": [
        "caracteres = 0\n",
        "for texto in textos_foros_strategy:\n",
        "    caracteres += contarCaracteres(texto)\n",
        "    caracteres_foro_strategy = caracteres"
      ]
    },
    {
      "cell_type": "code",
      "execution_count": 28,
      "metadata": {
        "colab": {
          "base_uri": "https://localhost:8080/"
        },
        "id": "ViPGEDv2XPAy",
        "outputId": "8a001742-57e4-4ce8-bfce-6a45defe1ff1"
      },
      "outputs": [
        {
          "output_type": "stream",
          "name": "stdout",
          "text": [
            "Cantidad de caracteres: 17746\n"
          ]
        }
      ],
      "source": [
        "print(f\"Cantidad de caracteres: {caracteres_foro_strategy}\")"
      ]
    },
    {
      "cell_type": "markdown",
      "metadata": {
        "id": "Pv5kHj27rCO0"
      },
      "source": [
        "### News"
      ]
    },
    {
      "cell_type": "code",
      "execution_count": 29,
      "metadata": {
        "id": "aZJGSyioqpZK"
      },
      "outputs": [],
      "source": [
        "#URL de los foros de News.\n",
        "url_foro = \"https://boardgamegeek.com/boardgame/265736/tiny-towns/forums/68\"\n",
        "driver.get(url_foro)\n",
        "time.sleep(3)\n",
        "\n",
        "hilos = driver.find_elements(By.CSS_SELECTOR, \"a[href^='/thread/']\")  # todos los <a> que empiezan con /thread/\n",
        "\n",
        "links_hilos = []\n",
        "for hilo in hilos:\n",
        "    link = hilo.get_attribute('href')\n",
        "    if link:  # asegurar que no sea None\n",
        "        link_completo = \"https://boardgamegeek.com\" + link if link.startswith(\"/thread/\") else link\n",
        "        links_hilos.append(link_completo)\n",
        "\n",
        "#Eliminar los links repetidos\n",
        "links_unicos = list(set(links_hilos))"
      ]
    },
    {
      "cell_type": "code",
      "execution_count": 30,
      "metadata": {
        "id": "ksdNVQ4yq9NZ"
      },
      "outputs": [],
      "source": [
        "textos_foros_news = []\n",
        "\n",
        "for link in links_unicos:\n",
        "    driver.get(link)\n",
        "    time.sleep(2)\n",
        "\n",
        "    posts = driver.find_elements(By.TAG_NAME, \"gg-markup-safe-html\")\n",
        "\n",
        "    for post in posts:\n",
        "        texto = post.text.strip()\n",
        "        if texto:\n",
        "            textos_foros_news.append(texto)\n",
        "\n",
        "textos_foros_news = list(set(textos_foros_news))"
      ]
    },
    {
      "cell_type": "code",
      "execution_count": 31,
      "metadata": {
        "id": "UgDkmOo7ryNa"
      },
      "outputs": [],
      "source": [
        "with open('../datos/informacion/texto_foros_news.txt', 'w', encoding='utf-8') as archivo:\n",
        "    for linea in textos_foros_news:\n",
        "        archivo.write(linea + '\\n')  # Escribir cada string en una nueva línea"
      ]
    },
    {
      "cell_type": "code",
      "execution_count": 32,
      "metadata": {
        "id": "c6u364cLXPA0"
      },
      "outputs": [],
      "source": [
        "caracteres = 0\n",
        "for texto in textos_foros_news:\n",
        "    caracteres += contarCaracteres(texto)\n",
        "    caracteres_foro_news = caracteres"
      ]
    },
    {
      "cell_type": "code",
      "execution_count": 33,
      "metadata": {
        "colab": {
          "base_uri": "https://localhost:8080/"
        },
        "id": "kR6dgP-oXPA0",
        "outputId": "64ae870c-e133-477d-9fcc-7a29a271f13b"
      },
      "outputs": [
        {
          "output_type": "stream",
          "name": "stdout",
          "text": [
            "Cantidad de caracteres: 3831\n"
          ]
        }
      ],
      "source": [
        "print(f\"Cantidad de caracteres: {caracteres_foro_news}\")"
      ]
    },
    {
      "cell_type": "markdown",
      "source": [
        "###Rules"
      ],
      "metadata": {
        "id": "zrUxbQN0AXlK"
      }
    },
    {
      "cell_type": "code",
      "source": [
        "from selenium import webdriver\n",
        "from selenium.webdriver.common.by import By\n",
        "import time\n",
        "from urllib.parse import urljoin\n",
        "\n",
        "base_forum_url = \"https://boardgamegeek.com/boardgame/265736/tiny-towns/forums/66\"\n",
        "base_url = \"https://boardgamegeek.com\"\n",
        "\n",
        "lista_links = []\n",
        "vistos = set()\n",
        "\n",
        "NUM_PAGINAS = 6  # Ajustar si hay más\n",
        "\n",
        "for pageid in range(1, NUM_PAGINAS + 1):\n",
        "    if pageid == 1:\n",
        "        url = base_forum_url\n",
        "    else:\n",
        "        url = f\"{base_forum_url}?pageid={pageid}\"\n",
        "\n",
        "    driver.get(url)\n",
        "    time.sleep(3)  # Esperar a que cargue\n",
        "\n",
        "    print(f\"Accediendo a la página {pageid}: {url}\")\n",
        "\n",
        "    # Buscar todos los enlaces a hilos de conversación\n",
        "    links = driver.find_elements(By.CSS_SELECTOR, 'a[href*=\"/thread/\"]')\n",
        "\n",
        "    for link in links:\n",
        "        href = link.get_attribute('href')\n",
        "\n",
        "        if href and \"/thread/\" in href and \"/thread/new\" not in href and \"/login\" not in href:\n",
        "            href = urljoin(base_url, href).rstrip(\"/\")\n",
        "\n",
        "            if href not in vistos:\n",
        "                lista_links.append(href)\n",
        "                vistos.add(href)"
      ],
      "metadata": {
        "id": "cZgGulY9AZNW",
        "colab": {
          "base_uri": "https://localhost:8080/"
        },
        "outputId": "ce976485-6519-4746-9774-7c3d6813b4a8"
      },
      "execution_count": 34,
      "outputs": [
        {
          "output_type": "stream",
          "name": "stdout",
          "text": [
            "Accediendo a la página 1: https://boardgamegeek.com/boardgame/265736/tiny-towns/forums/66\n",
            "Accediendo a la página 2: https://boardgamegeek.com/boardgame/265736/tiny-towns/forums/66?pageid=2\n",
            "Accediendo a la página 3: https://boardgamegeek.com/boardgame/265736/tiny-towns/forums/66?pageid=3\n",
            "Accediendo a la página 4: https://boardgamegeek.com/boardgame/265736/tiny-towns/forums/66?pageid=4\n",
            "Accediendo a la página 5: https://boardgamegeek.com/boardgame/265736/tiny-towns/forums/66?pageid=5\n",
            "Accediendo a la página 6: https://boardgamegeek.com/boardgame/265736/tiny-towns/forums/66?pageid=6\n"
          ]
        }
      ]
    },
    {
      "cell_type": "code",
      "source": [
        "textos_foros_rules = []\n",
        "\n",
        "for link in lista_links:\n",
        "    driver.get(link)\n",
        "    time.sleep(2)\n",
        "\n",
        "    posts = driver.find_elements(By.TAG_NAME, \"gg-markup-safe-html\")\n",
        "\n",
        "    for post in posts:\n",
        "        texto = post.text.strip()\n",
        "        if texto:\n",
        "            textos_foros_rules.append(texto)\n",
        "\n",
        "textos_foros_rules = list(set(textos_foros_rules))"
      ],
      "metadata": {
        "id": "exZ0PAv0AoJA"
      },
      "execution_count": 35,
      "outputs": []
    },
    {
      "cell_type": "code",
      "source": [
        "with open('../datos/informacion/texto_foros_rules.txt', 'w', encoding='utf-8') as archivo:\n",
        "    for linea in textos_foros_rules:\n",
        "        archivo.write(linea + '\\n')  # Escribir cada string en una nueva línea"
      ],
      "metadata": {
        "id": "vgqJtjBdAvg8"
      },
      "execution_count": 36,
      "outputs": []
    },
    {
      "cell_type": "code",
      "source": [
        "caracteres = 0\n",
        "for texto in textos_foros_rules:\n",
        "    caracteres += contarCaracteres(texto)\n",
        "    caracteres_foro_rules = caracteres"
      ],
      "metadata": {
        "id": "noQWk-SHAxbj"
      },
      "execution_count": 37,
      "outputs": []
    },
    {
      "cell_type": "code",
      "source": [
        "print(f\"Cantidad de caracteres: {caracteres_foro_rules}\")"
      ],
      "metadata": {
        "colab": {
          "base_uri": "https://localhost:8080/"
        },
        "id": "oLrkhNehAzsV",
        "outputId": "dfef1bfe-c6b8-489b-d666-8c587f291b85"
      },
      "execution_count": 38,
      "outputs": [
        {
          "output_type": "stream",
          "name": "stdout",
          "text": [
            "Cantidad de caracteres: 115216\n"
          ]
        }
      ]
    },
    {
      "cell_type": "code",
      "source": [
        "caracteres_foro = caracteres_foro_news + caracteres_foro_strategy + caracteres_foro_variants + caracteres_foro_rules\n",
        "print(caracteres_foro)"
      ],
      "metadata": {
        "colab": {
          "base_uri": "https://localhost:8080/"
        },
        "id": "UhlwD_nPPuBP",
        "outputId": "f7de5961-8274-4329-892c-7197e6d63e9b"
      },
      "execution_count": 39,
      "outputs": [
        {
          "output_type": "stream",
          "name": "stdout",
          "text": [
            "184576\n"
          ]
        }
      ]
    },
    {
      "cell_type": "markdown",
      "metadata": {
        "id": "Id65ycu0XPA1"
      },
      "source": [
        "## Extracción de la página Misutmeeple:"
      ]
    },
    {
      "cell_type": "code",
      "execution_count": 40,
      "metadata": {
        "colab": {
          "base_uri": "https://localhost:8080/"
        },
        "id": "ABgD-5-lXPA1",
        "outputId": "a9732586-8c93-4477-c723-6d656ceddd0e"
      },
      "outputs": [
        {
          "output_type": "stream",
          "name": "stdout",
          "text": [
            "Página obtenida con éxito\n"
          ]
        }
      ],
      "source": [
        "# Url de la página de reseña de PARKS.\n",
        "url = 'https://misutmeeple.com/2020/03/resena-tiny-towns/'\n",
        "\n",
        "# Enviar una solicitud GET\n",
        "response = requests.get(url)\n",
        "\n",
        "# Verificar si la solicitud fue exitosa\n",
        "if response.status_code == 200:\n",
        "    html_content = response.text\n",
        "    print(\"Página obtenida con éxito\")\n",
        "else:\n",
        "    print(f\"Error {response.status_code}\")"
      ]
    },
    {
      "cell_type": "code",
      "execution_count": 41,
      "metadata": {
        "id": "CxCu6QS2XPA2"
      },
      "outputs": [],
      "source": [
        "# Crear el objeto BeautifulSoup\n",
        "soup = BeautifulSoup(html_content, \"html.parser\")"
      ]
    },
    {
      "cell_type": "code",
      "execution_count": 42,
      "metadata": {
        "id": "PyE4KbG_XPA2"
      },
      "outputs": [],
      "source": [
        "secciones = {}\n",
        "\n",
        "# Recorremos cada sección marcada por <h2>\n",
        "for h2 in soup.find_all('h2'):\n",
        "    titulo = h2.get_text(strip=True)\n",
        "    contenido = []\n",
        "\n",
        "    # Recorremos los elementos siguientes hasta otro <h2>\n",
        "    for sibling in h2.find_next_siblings():\n",
        "        if sibling.name == 'h2':\n",
        "            break\n",
        "\n",
        "        if sibling.name == 'p':\n",
        "            contenido.append(sibling.get_text(strip=True))\n",
        "\n",
        "        elif sibling.name == 'ul':\n",
        "            # Agregar todos los <li> dentro del <ul>\n",
        "            for li in sibling.find_all('li'):\n",
        "                contenido.append(f\"- {li.get_text(strip=True)}\")\n",
        "\n",
        "        elif sibling.name == 'ol':\n",
        "            # Agregar los <li> en listas ordenadas también\n",
        "            for idx, li in enumerate(sibling.find_all('li'), start=1):\n",
        "                contenido.append(f\"{idx}. {li.get_text(strip=True)}\")\n",
        "\n",
        "    # Guardar el texto agrupado en el diccionario\n",
        "    secciones[titulo] = \"\\n\".join(contenido)"
      ]
    },
    {
      "cell_type": "code",
      "execution_count": 43,
      "metadata": {
        "id": "ge0QsdgqXPA2"
      },
      "outputs": [],
      "source": [
        "secciones = dict(list(secciones.items())[:4])"
      ]
    },
    {
      "cell_type": "code",
      "execution_count": 44,
      "metadata": {
        "colab": {
          "base_uri": "https://localhost:8080/"
        },
        "id": "KUGx2-sOXPA3",
        "outputId": "cab1f540-ce4d-43bf-f726-fbf23a214cd7"
      },
      "outputs": [
        {
          "output_type": "execute_result",
          "data": {
            "text/plain": [
              "dict_keys(['Introducción', 'Contenido', 'Mecánica', 'Opinión Personal'])"
            ]
          },
          "metadata": {},
          "execution_count": 44
        }
      ],
      "source": [
        "secciones.keys()"
      ]
    },
    {
      "cell_type": "code",
      "execution_count": 47,
      "metadata": {
        "id": "qzZ_rrdjXPA3"
      },
      "outputs": [],
      "source": [
        "with open('../datos/informacion/texto_misutmeeple_introduccion.txt', 'w', encoding='utf-8') as archivo:\n",
        "    archivo.write(secciones['Introducción'])"
      ]
    },
    {
      "cell_type": "code",
      "execution_count": 48,
      "metadata": {
        "id": "EZYTD4ilXPA3"
      },
      "outputs": [],
      "source": [
        "with open('../datos/informacion/texto_misutmeeple_contenido.txt', 'w', encoding='utf-8') as archivo:\n",
        "    archivo.write(secciones['Contenido'])"
      ]
    },
    {
      "cell_type": "code",
      "execution_count": 49,
      "metadata": {
        "id": "0ITwH4QQXPA4"
      },
      "outputs": [],
      "source": [
        "with open('../datos/informacion/texto_misutmeeple_mecanica.txt', 'w', encoding='utf-8') as archivo:\n",
        "    archivo.write(secciones['Mecánica'])"
      ]
    },
    {
      "cell_type": "code",
      "execution_count": 50,
      "metadata": {
        "id": "J0pJeZ2CXPA4"
      },
      "outputs": [],
      "source": [
        "with open('../datos/informacion/texto_misutmeeple_opinion.txt', 'w', encoding='utf-8') as archivo:\n",
        "    archivo.write(secciones['Opinión Personal'])"
      ]
    },
    {
      "cell_type": "code",
      "execution_count": 51,
      "metadata": {
        "id": "fuwH4wP0XPA4"
      },
      "outputs": [],
      "source": [
        "caracteres = 0\n",
        "for key in ['Introducción','Contenido','Mecánica','Opinión Personal']:\n",
        "    texto = secciones[key]\n",
        "    caracteres += contarCaracteres(texto)\n",
        "    caracteres_misutmeeple = caracteres"
      ]
    },
    {
      "cell_type": "code",
      "execution_count": 52,
      "metadata": {
        "colab": {
          "base_uri": "https://localhost:8080/"
        },
        "id": "y8RRjJlAXPA5",
        "outputId": "261eeb2b-f864-4810-e754-5df5d5b510e3"
      },
      "outputs": [
        {
          "output_type": "stream",
          "name": "stdout",
          "text": [
            "Cantidad de caracteres: 17138\n"
          ]
        }
      ],
      "source": [
        "print(f\"Cantidad de caracteres: {caracteres_misutmeeple}\")"
      ]
    }
  ]
}