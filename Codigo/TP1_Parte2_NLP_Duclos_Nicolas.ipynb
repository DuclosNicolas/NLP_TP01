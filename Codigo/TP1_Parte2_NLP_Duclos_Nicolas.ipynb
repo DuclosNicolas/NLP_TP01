{
  "nbformat": 4,
  "nbformat_minor": 0,
  "metadata": {
    "colab": {
      "provenance": [],
      "toc_visible": true
    },
    "kernelspec": {
      "name": "python3",
      "display_name": "Python 3"
    },
    "language_info": {
      "name": "python"
    },
    "widgets": {
      "application/vnd.jupyter.widget-state+json": {
        "5971e7a6c1bf4b779993c452ba4978cd": {
          "model_module": "@jupyter-widgets/controls",
          "model_name": "HBoxModel",
          "model_module_version": "1.5.0",
          "state": {
            "_dom_classes": [],
            "_model_module": "@jupyter-widgets/controls",
            "_model_module_version": "1.5.0",
            "_model_name": "HBoxModel",
            "_view_count": null,
            "_view_module": "@jupyter-widgets/controls",
            "_view_module_version": "1.5.0",
            "_view_name": "HBoxView",
            "box_style": "",
            "children": [
              "IPY_MODEL_93adff30420147979c4d6220b39de028",
              "IPY_MODEL_4c24e33f63f6478484b347748a09871e",
              "IPY_MODEL_5390f6b0d7324eff91e04a40348a4ead"
            ],
            "layout": "IPY_MODEL_d82387f5cdf943228fa83808dde98b7d"
          }
        },
        "93adff30420147979c4d6220b39de028": {
          "model_module": "@jupyter-widgets/controls",
          "model_name": "HTMLModel",
          "model_module_version": "1.5.0",
          "state": {
            "_dom_classes": [],
            "_model_module": "@jupyter-widgets/controls",
            "_model_module_version": "1.5.0",
            "_model_name": "HTMLModel",
            "_view_count": null,
            "_view_module": "@jupyter-widgets/controls",
            "_view_module_version": "1.5.0",
            "_view_name": "HTMLView",
            "description": "",
            "description_tooltip": null,
            "layout": "IPY_MODEL_d63f22783d1448ecadbbe45ea552c69b",
            "placeholder": "​",
            "style": "IPY_MODEL_6145ca528bdd4b249fab6e2c5e92729a",
            "value": "config.json: 100%"
          }
        },
        "4c24e33f63f6478484b347748a09871e": {
          "model_module": "@jupyter-widgets/controls",
          "model_name": "FloatProgressModel",
          "model_module_version": "1.5.0",
          "state": {
            "_dom_classes": [],
            "_model_module": "@jupyter-widgets/controls",
            "_model_module_version": "1.5.0",
            "_model_name": "FloatProgressModel",
            "_view_count": null,
            "_view_module": "@jupyter-widgets/controls",
            "_view_module_version": "1.5.0",
            "_view_name": "ProgressView",
            "bar_style": "success",
            "description": "",
            "description_tooltip": null,
            "layout": "IPY_MODEL_db8e8ae938c84ca1bb009738f78df72d",
            "max": 929,
            "min": 0,
            "orientation": "horizontal",
            "style": "IPY_MODEL_c36b15b3aa3f49ef828800b6c875a14c",
            "value": 929
          }
        },
        "5390f6b0d7324eff91e04a40348a4ead": {
          "model_module": "@jupyter-widgets/controls",
          "model_name": "HTMLModel",
          "model_module_version": "1.5.0",
          "state": {
            "_dom_classes": [],
            "_model_module": "@jupyter-widgets/controls",
            "_model_module_version": "1.5.0",
            "_model_name": "HTMLModel",
            "_view_count": null,
            "_view_module": "@jupyter-widgets/controls",
            "_view_module_version": "1.5.0",
            "_view_name": "HTMLView",
            "description": "",
            "description_tooltip": null,
            "layout": "IPY_MODEL_bb5e01b8028d4c3ba32efffd87d6aac3",
            "placeholder": "​",
            "style": "IPY_MODEL_d39a54f21a3148e4afc5b1ca22423a2c",
            "value": " 929/929 [00:00&lt;00:00, 41.1kB/s]"
          }
        },
        "d82387f5cdf943228fa83808dde98b7d": {
          "model_module": "@jupyter-widgets/base",
          "model_name": "LayoutModel",
          "model_module_version": "1.2.0",
          "state": {
            "_model_module": "@jupyter-widgets/base",
            "_model_module_version": "1.2.0",
            "_model_name": "LayoutModel",
            "_view_count": null,
            "_view_module": "@jupyter-widgets/base",
            "_view_module_version": "1.2.0",
            "_view_name": "LayoutView",
            "align_content": null,
            "align_items": null,
            "align_self": null,
            "border": null,
            "bottom": null,
            "display": null,
            "flex": null,
            "flex_flow": null,
            "grid_area": null,
            "grid_auto_columns": null,
            "grid_auto_flow": null,
            "grid_auto_rows": null,
            "grid_column": null,
            "grid_gap": null,
            "grid_row": null,
            "grid_template_areas": null,
            "grid_template_columns": null,
            "grid_template_rows": null,
            "height": null,
            "justify_content": null,
            "justify_items": null,
            "left": null,
            "margin": null,
            "max_height": null,
            "max_width": null,
            "min_height": null,
            "min_width": null,
            "object_fit": null,
            "object_position": null,
            "order": null,
            "overflow": null,
            "overflow_x": null,
            "overflow_y": null,
            "padding": null,
            "right": null,
            "top": null,
            "visibility": null,
            "width": null
          }
        },
        "d63f22783d1448ecadbbe45ea552c69b": {
          "model_module": "@jupyter-widgets/base",
          "model_name": "LayoutModel",
          "model_module_version": "1.2.0",
          "state": {
            "_model_module": "@jupyter-widgets/base",
            "_model_module_version": "1.2.0",
            "_model_name": "LayoutModel",
            "_view_count": null,
            "_view_module": "@jupyter-widgets/base",
            "_view_module_version": "1.2.0",
            "_view_name": "LayoutView",
            "align_content": null,
            "align_items": null,
            "align_self": null,
            "border": null,
            "bottom": null,
            "display": null,
            "flex": null,
            "flex_flow": null,
            "grid_area": null,
            "grid_auto_columns": null,
            "grid_auto_flow": null,
            "grid_auto_rows": null,
            "grid_column": null,
            "grid_gap": null,
            "grid_row": null,
            "grid_template_areas": null,
            "grid_template_columns": null,
            "grid_template_rows": null,
            "height": null,
            "justify_content": null,
            "justify_items": null,
            "left": null,
            "margin": null,
            "max_height": null,
            "max_width": null,
            "min_height": null,
            "min_width": null,
            "object_fit": null,
            "object_position": null,
            "order": null,
            "overflow": null,
            "overflow_x": null,
            "overflow_y": null,
            "padding": null,
            "right": null,
            "top": null,
            "visibility": null,
            "width": null
          }
        },
        "6145ca528bdd4b249fab6e2c5e92729a": {
          "model_module": "@jupyter-widgets/controls",
          "model_name": "DescriptionStyleModel",
          "model_module_version": "1.5.0",
          "state": {
            "_model_module": "@jupyter-widgets/controls",
            "_model_module_version": "1.5.0",
            "_model_name": "DescriptionStyleModel",
            "_view_count": null,
            "_view_module": "@jupyter-widgets/base",
            "_view_module_version": "1.2.0",
            "_view_name": "StyleView",
            "description_width": ""
          }
        },
        "db8e8ae938c84ca1bb009738f78df72d": {
          "model_module": "@jupyter-widgets/base",
          "model_name": "LayoutModel",
          "model_module_version": "1.2.0",
          "state": {
            "_model_module": "@jupyter-widgets/base",
            "_model_module_version": "1.2.0",
            "_model_name": "LayoutModel",
            "_view_count": null,
            "_view_module": "@jupyter-widgets/base",
            "_view_module_version": "1.2.0",
            "_view_name": "LayoutView",
            "align_content": null,
            "align_items": null,
            "align_self": null,
            "border": null,
            "bottom": null,
            "display": null,
            "flex": null,
            "flex_flow": null,
            "grid_area": null,
            "grid_auto_columns": null,
            "grid_auto_flow": null,
            "grid_auto_rows": null,
            "grid_column": null,
            "grid_gap": null,
            "grid_row": null,
            "grid_template_areas": null,
            "grid_template_columns": null,
            "grid_template_rows": null,
            "height": null,
            "justify_content": null,
            "justify_items": null,
            "left": null,
            "margin": null,
            "max_height": null,
            "max_width": null,
            "min_height": null,
            "min_width": null,
            "object_fit": null,
            "object_position": null,
            "order": null,
            "overflow": null,
            "overflow_x": null,
            "overflow_y": null,
            "padding": null,
            "right": null,
            "top": null,
            "visibility": null,
            "width": null
          }
        },
        "c36b15b3aa3f49ef828800b6c875a14c": {
          "model_module": "@jupyter-widgets/controls",
          "model_name": "ProgressStyleModel",
          "model_module_version": "1.5.0",
          "state": {
            "_model_module": "@jupyter-widgets/controls",
            "_model_module_version": "1.5.0",
            "_model_name": "ProgressStyleModel",
            "_view_count": null,
            "_view_module": "@jupyter-widgets/base",
            "_view_module_version": "1.2.0",
            "_view_name": "StyleView",
            "bar_color": null,
            "description_width": ""
          }
        },
        "bb5e01b8028d4c3ba32efffd87d6aac3": {
          "model_module": "@jupyter-widgets/base",
          "model_name": "LayoutModel",
          "model_module_version": "1.2.0",
          "state": {
            "_model_module": "@jupyter-widgets/base",
            "_model_module_version": "1.2.0",
            "_model_name": "LayoutModel",
            "_view_count": null,
            "_view_module": "@jupyter-widgets/base",
            "_view_module_version": "1.2.0",
            "_view_name": "LayoutView",
            "align_content": null,
            "align_items": null,
            "align_self": null,
            "border": null,
            "bottom": null,
            "display": null,
            "flex": null,
            "flex_flow": null,
            "grid_area": null,
            "grid_auto_columns": null,
            "grid_auto_flow": null,
            "grid_auto_rows": null,
            "grid_column": null,
            "grid_gap": null,
            "grid_row": null,
            "grid_template_areas": null,
            "grid_template_columns": null,
            "grid_template_rows": null,
            "height": null,
            "justify_content": null,
            "justify_items": null,
            "left": null,
            "margin": null,
            "max_height": null,
            "max_width": null,
            "min_height": null,
            "min_width": null,
            "object_fit": null,
            "object_position": null,
            "order": null,
            "overflow": null,
            "overflow_x": null,
            "overflow_y": null,
            "padding": null,
            "right": null,
            "top": null,
            "visibility": null,
            "width": null
          }
        },
        "d39a54f21a3148e4afc5b1ca22423a2c": {
          "model_module": "@jupyter-widgets/controls",
          "model_name": "DescriptionStyleModel",
          "model_module_version": "1.5.0",
          "state": {
            "_model_module": "@jupyter-widgets/controls",
            "_model_module_version": "1.5.0",
            "_model_name": "DescriptionStyleModel",
            "_view_count": null,
            "_view_module": "@jupyter-widgets/base",
            "_view_module_version": "1.2.0",
            "_view_name": "StyleView",
            "description_width": ""
          }
        },
        "87969e3ff13c4e16a923fca9400946f4": {
          "model_module": "@jupyter-widgets/controls",
          "model_name": "HBoxModel",
          "model_module_version": "1.5.0",
          "state": {
            "_dom_classes": [],
            "_model_module": "@jupyter-widgets/controls",
            "_model_module_version": "1.5.0",
            "_model_name": "HBoxModel",
            "_view_count": null,
            "_view_module": "@jupyter-widgets/controls",
            "_view_module_version": "1.5.0",
            "_view_name": "HBoxView",
            "box_style": "",
            "children": [
              "IPY_MODEL_ae7c08c6b8f34e1b81af2e779aa49dee",
              "IPY_MODEL_58bd1be2d52c4958972dc13f93950cd4",
              "IPY_MODEL_369a6df9191a459388690ca9a80c6cc3"
            ],
            "layout": "IPY_MODEL_c2db45dd666a4d00a60db95a37651f8d"
          }
        },
        "ae7c08c6b8f34e1b81af2e779aa49dee": {
          "model_module": "@jupyter-widgets/controls",
          "model_name": "HTMLModel",
          "model_module_version": "1.5.0",
          "state": {
            "_dom_classes": [],
            "_model_module": "@jupyter-widgets/controls",
            "_model_module_version": "1.5.0",
            "_model_name": "HTMLModel",
            "_view_count": null,
            "_view_module": "@jupyter-widgets/controls",
            "_view_module_version": "1.5.0",
            "_view_name": "HTMLView",
            "description": "",
            "description_tooltip": null,
            "layout": "IPY_MODEL_741850f6a9d9444988e58559f6360dc6",
            "placeholder": "​",
            "style": "IPY_MODEL_0bfdaaf542b14676a312678f318e5b9d",
            "value": "pytorch_model.bin: 100%"
          }
        },
        "58bd1be2d52c4958972dc13f93950cd4": {
          "model_module": "@jupyter-widgets/controls",
          "model_name": "FloatProgressModel",
          "model_module_version": "1.5.0",
          "state": {
            "_dom_classes": [],
            "_model_module": "@jupyter-widgets/controls",
            "_model_module_version": "1.5.0",
            "_model_name": "FloatProgressModel",
            "_view_count": null,
            "_view_module": "@jupyter-widgets/controls",
            "_view_module_version": "1.5.0",
            "_view_name": "ProgressView",
            "bar_style": "success",
            "description": "",
            "description_tooltip": null,
            "layout": "IPY_MODEL_66a45d8616694ae98a70ea5bf3ff6299",
            "max": 501045531,
            "min": 0,
            "orientation": "horizontal",
            "style": "IPY_MODEL_d13bad68e576481a9e29e0e9d0dfd716",
            "value": 501045531
          }
        },
        "369a6df9191a459388690ca9a80c6cc3": {
          "model_module": "@jupyter-widgets/controls",
          "model_name": "HTMLModel",
          "model_module_version": "1.5.0",
          "state": {
            "_dom_classes": [],
            "_model_module": "@jupyter-widgets/controls",
            "_model_module_version": "1.5.0",
            "_model_name": "HTMLModel",
            "_view_count": null,
            "_view_module": "@jupyter-widgets/controls",
            "_view_module_version": "1.5.0",
            "_view_name": "HTMLView",
            "description": "",
            "description_tooltip": null,
            "layout": "IPY_MODEL_26a6b8e55f6e4fc8a434c1196485f8b0",
            "placeholder": "​",
            "style": "IPY_MODEL_2e8faa522f7e47a6b6d9480af950441b",
            "value": " 501M/501M [00:05&lt;00:00, 121MB/s]"
          }
        },
        "c2db45dd666a4d00a60db95a37651f8d": {
          "model_module": "@jupyter-widgets/base",
          "model_name": "LayoutModel",
          "model_module_version": "1.2.0",
          "state": {
            "_model_module": "@jupyter-widgets/base",
            "_model_module_version": "1.2.0",
            "_model_name": "LayoutModel",
            "_view_count": null,
            "_view_module": "@jupyter-widgets/base",
            "_view_module_version": "1.2.0",
            "_view_name": "LayoutView",
            "align_content": null,
            "align_items": null,
            "align_self": null,
            "border": null,
            "bottom": null,
            "display": null,
            "flex": null,
            "flex_flow": null,
            "grid_area": null,
            "grid_auto_columns": null,
            "grid_auto_flow": null,
            "grid_auto_rows": null,
            "grid_column": null,
            "grid_gap": null,
            "grid_row": null,
            "grid_template_areas": null,
            "grid_template_columns": null,
            "grid_template_rows": null,
            "height": null,
            "justify_content": null,
            "justify_items": null,
            "left": null,
            "margin": null,
            "max_height": null,
            "max_width": null,
            "min_height": null,
            "min_width": null,
            "object_fit": null,
            "object_position": null,
            "order": null,
            "overflow": null,
            "overflow_x": null,
            "overflow_y": null,
            "padding": null,
            "right": null,
            "top": null,
            "visibility": null,
            "width": null
          }
        },
        "741850f6a9d9444988e58559f6360dc6": {
          "model_module": "@jupyter-widgets/base",
          "model_name": "LayoutModel",
          "model_module_version": "1.2.0",
          "state": {
            "_model_module": "@jupyter-widgets/base",
            "_model_module_version": "1.2.0",
            "_model_name": "LayoutModel",
            "_view_count": null,
            "_view_module": "@jupyter-widgets/base",
            "_view_module_version": "1.2.0",
            "_view_name": "LayoutView",
            "align_content": null,
            "align_items": null,
            "align_self": null,
            "border": null,
            "bottom": null,
            "display": null,
            "flex": null,
            "flex_flow": null,
            "grid_area": null,
            "grid_auto_columns": null,
            "grid_auto_flow": null,
            "grid_auto_rows": null,
            "grid_column": null,
            "grid_gap": null,
            "grid_row": null,
            "grid_template_areas": null,
            "grid_template_columns": null,
            "grid_template_rows": null,
            "height": null,
            "justify_content": null,
            "justify_items": null,
            "left": null,
            "margin": null,
            "max_height": null,
            "max_width": null,
            "min_height": null,
            "min_width": null,
            "object_fit": null,
            "object_position": null,
            "order": null,
            "overflow": null,
            "overflow_x": null,
            "overflow_y": null,
            "padding": null,
            "right": null,
            "top": null,
            "visibility": null,
            "width": null
          }
        },
        "0bfdaaf542b14676a312678f318e5b9d": {
          "model_module": "@jupyter-widgets/controls",
          "model_name": "DescriptionStyleModel",
          "model_module_version": "1.5.0",
          "state": {
            "_model_module": "@jupyter-widgets/controls",
            "_model_module_version": "1.5.0",
            "_model_name": "DescriptionStyleModel",
            "_view_count": null,
            "_view_module": "@jupyter-widgets/base",
            "_view_module_version": "1.2.0",
            "_view_name": "StyleView",
            "description_width": ""
          }
        },
        "66a45d8616694ae98a70ea5bf3ff6299": {
          "model_module": "@jupyter-widgets/base",
          "model_name": "LayoutModel",
          "model_module_version": "1.2.0",
          "state": {
            "_model_module": "@jupyter-widgets/base",
            "_model_module_version": "1.2.0",
            "_model_name": "LayoutModel",
            "_view_count": null,
            "_view_module": "@jupyter-widgets/base",
            "_view_module_version": "1.2.0",
            "_view_name": "LayoutView",
            "align_content": null,
            "align_items": null,
            "align_self": null,
            "border": null,
            "bottom": null,
            "display": null,
            "flex": null,
            "flex_flow": null,
            "grid_area": null,
            "grid_auto_columns": null,
            "grid_auto_flow": null,
            "grid_auto_rows": null,
            "grid_column": null,
            "grid_gap": null,
            "grid_row": null,
            "grid_template_areas": null,
            "grid_template_columns": null,
            "grid_template_rows": null,
            "height": null,
            "justify_content": null,
            "justify_items": null,
            "left": null,
            "margin": null,
            "max_height": null,
            "max_width": null,
            "min_height": null,
            "min_width": null,
            "object_fit": null,
            "object_position": null,
            "order": null,
            "overflow": null,
            "overflow_x": null,
            "overflow_y": null,
            "padding": null,
            "right": null,
            "top": null,
            "visibility": null,
            "width": null
          }
        },
        "d13bad68e576481a9e29e0e9d0dfd716": {
          "model_module": "@jupyter-widgets/controls",
          "model_name": "ProgressStyleModel",
          "model_module_version": "1.5.0",
          "state": {
            "_model_module": "@jupyter-widgets/controls",
            "_model_module_version": "1.5.0",
            "_model_name": "ProgressStyleModel",
            "_view_count": null,
            "_view_module": "@jupyter-widgets/base",
            "_view_module_version": "1.2.0",
            "_view_name": "StyleView",
            "bar_color": null,
            "description_width": ""
          }
        },
        "26a6b8e55f6e4fc8a434c1196485f8b0": {
          "model_module": "@jupyter-widgets/base",
          "model_name": "LayoutModel",
          "model_module_version": "1.2.0",
          "state": {
            "_model_module": "@jupyter-widgets/base",
            "_model_module_version": "1.2.0",
            "_model_name": "LayoutModel",
            "_view_count": null,
            "_view_module": "@jupyter-widgets/base",
            "_view_module_version": "1.2.0",
            "_view_name": "LayoutView",
            "align_content": null,
            "align_items": null,
            "align_self": null,
            "border": null,
            "bottom": null,
            "display": null,
            "flex": null,
            "flex_flow": null,
            "grid_area": null,
            "grid_auto_columns": null,
            "grid_auto_flow": null,
            "grid_auto_rows": null,
            "grid_column": null,
            "grid_gap": null,
            "grid_row": null,
            "grid_template_areas": null,
            "grid_template_columns": null,
            "grid_template_rows": null,
            "height": null,
            "justify_content": null,
            "justify_items": null,
            "left": null,
            "margin": null,
            "max_height": null,
            "max_width": null,
            "min_height": null,
            "min_width": null,
            "object_fit": null,
            "object_position": null,
            "order": null,
            "overflow": null,
            "overflow_x": null,
            "overflow_y": null,
            "padding": null,
            "right": null,
            "top": null,
            "visibility": null,
            "width": null
          }
        },
        "2e8faa522f7e47a6b6d9480af950441b": {
          "model_module": "@jupyter-widgets/controls",
          "model_name": "DescriptionStyleModel",
          "model_module_version": "1.5.0",
          "state": {
            "_model_module": "@jupyter-widgets/controls",
            "_model_module_version": "1.5.0",
            "_model_name": "DescriptionStyleModel",
            "_view_count": null,
            "_view_module": "@jupyter-widgets/base",
            "_view_module_version": "1.2.0",
            "_view_name": "StyleView",
            "description_width": ""
          }
        },
        "7e41e0bfc7324d0e83934c11183f6d80": {
          "model_module": "@jupyter-widgets/controls",
          "model_name": "HBoxModel",
          "model_module_version": "1.5.0",
          "state": {
            "_dom_classes": [],
            "_model_module": "@jupyter-widgets/controls",
            "_model_module_version": "1.5.0",
            "_model_name": "HBoxModel",
            "_view_count": null,
            "_view_module": "@jupyter-widgets/controls",
            "_view_module_version": "1.5.0",
            "_view_name": "HBoxView",
            "box_style": "",
            "children": [
              "IPY_MODEL_016ec63982934cd38023e83696bf4885",
              "IPY_MODEL_3885c0ccbdc343d1a23b85a3a042f606",
              "IPY_MODEL_f9918762508a42c6a1cb3aad926c33a2"
            ],
            "layout": "IPY_MODEL_cc91a41d9cfa4eb78c96636b95dd287c"
          }
        },
        "016ec63982934cd38023e83696bf4885": {
          "model_module": "@jupyter-widgets/controls",
          "model_name": "HTMLModel",
          "model_module_version": "1.5.0",
          "state": {
            "_dom_classes": [],
            "_model_module": "@jupyter-widgets/controls",
            "_model_module_version": "1.5.0",
            "_model_name": "HTMLModel",
            "_view_count": null,
            "_view_module": "@jupyter-widgets/controls",
            "_view_module_version": "1.5.0",
            "_view_name": "HTMLView",
            "description": "",
            "description_tooltip": null,
            "layout": "IPY_MODEL_19ef11d6b4f64967835f5311a2692d38",
            "placeholder": "​",
            "style": "IPY_MODEL_7de8e6c9b51e41a19435613ed1dd8839",
            "value": "vocab.json: 100%"
          }
        },
        "3885c0ccbdc343d1a23b85a3a042f606": {
          "model_module": "@jupyter-widgets/controls",
          "model_name": "FloatProgressModel",
          "model_module_version": "1.5.0",
          "state": {
            "_dom_classes": [],
            "_model_module": "@jupyter-widgets/controls",
            "_model_module_version": "1.5.0",
            "_model_name": "FloatProgressModel",
            "_view_count": null,
            "_view_module": "@jupyter-widgets/controls",
            "_view_module_version": "1.5.0",
            "_view_name": "ProgressView",
            "bar_style": "success",
            "description": "",
            "description_tooltip": null,
            "layout": "IPY_MODEL_aaa92c76315d443388574b83f0fe5d05",
            "max": 898822,
            "min": 0,
            "orientation": "horizontal",
            "style": "IPY_MODEL_ada1592bb6c643559c5f3567ebc19cdd",
            "value": 898822
          }
        },
        "f9918762508a42c6a1cb3aad926c33a2": {
          "model_module": "@jupyter-widgets/controls",
          "model_name": "HTMLModel",
          "model_module_version": "1.5.0",
          "state": {
            "_dom_classes": [],
            "_model_module": "@jupyter-widgets/controls",
            "_model_module_version": "1.5.0",
            "_model_name": "HTMLModel",
            "_view_count": null,
            "_view_module": "@jupyter-widgets/controls",
            "_view_module_version": "1.5.0",
            "_view_name": "HTMLView",
            "description": "",
            "description_tooltip": null,
            "layout": "IPY_MODEL_dc6411346b56494eb212fc12c9fd07da",
            "placeholder": "​",
            "style": "IPY_MODEL_75dbb234157c4b8da827ed7932e76e45",
            "value": " 899k/899k [00:00&lt;00:00, 6.95MB/s]"
          }
        },
        "cc91a41d9cfa4eb78c96636b95dd287c": {
          "model_module": "@jupyter-widgets/base",
          "model_name": "LayoutModel",
          "model_module_version": "1.2.0",
          "state": {
            "_model_module": "@jupyter-widgets/base",
            "_model_module_version": "1.2.0",
            "_model_name": "LayoutModel",
            "_view_count": null,
            "_view_module": "@jupyter-widgets/base",
            "_view_module_version": "1.2.0",
            "_view_name": "LayoutView",
            "align_content": null,
            "align_items": null,
            "align_self": null,
            "border": null,
            "bottom": null,
            "display": null,
            "flex": null,
            "flex_flow": null,
            "grid_area": null,
            "grid_auto_columns": null,
            "grid_auto_flow": null,
            "grid_auto_rows": null,
            "grid_column": null,
            "grid_gap": null,
            "grid_row": null,
            "grid_template_areas": null,
            "grid_template_columns": null,
            "grid_template_rows": null,
            "height": null,
            "justify_content": null,
            "justify_items": null,
            "left": null,
            "margin": null,
            "max_height": null,
            "max_width": null,
            "min_height": null,
            "min_width": null,
            "object_fit": null,
            "object_position": null,
            "order": null,
            "overflow": null,
            "overflow_x": null,
            "overflow_y": null,
            "padding": null,
            "right": null,
            "top": null,
            "visibility": null,
            "width": null
          }
        },
        "19ef11d6b4f64967835f5311a2692d38": {
          "model_module": "@jupyter-widgets/base",
          "model_name": "LayoutModel",
          "model_module_version": "1.2.0",
          "state": {
            "_model_module": "@jupyter-widgets/base",
            "_model_module_version": "1.2.0",
            "_model_name": "LayoutModel",
            "_view_count": null,
            "_view_module": "@jupyter-widgets/base",
            "_view_module_version": "1.2.0",
            "_view_name": "LayoutView",
            "align_content": null,
            "align_items": null,
            "align_self": null,
            "border": null,
            "bottom": null,
            "display": null,
            "flex": null,
            "flex_flow": null,
            "grid_area": null,
            "grid_auto_columns": null,
            "grid_auto_flow": null,
            "grid_auto_rows": null,
            "grid_column": null,
            "grid_gap": null,
            "grid_row": null,
            "grid_template_areas": null,
            "grid_template_columns": null,
            "grid_template_rows": null,
            "height": null,
            "justify_content": null,
            "justify_items": null,
            "left": null,
            "margin": null,
            "max_height": null,
            "max_width": null,
            "min_height": null,
            "min_width": null,
            "object_fit": null,
            "object_position": null,
            "order": null,
            "overflow": null,
            "overflow_x": null,
            "overflow_y": null,
            "padding": null,
            "right": null,
            "top": null,
            "visibility": null,
            "width": null
          }
        },
        "7de8e6c9b51e41a19435613ed1dd8839": {
          "model_module": "@jupyter-widgets/controls",
          "model_name": "DescriptionStyleModel",
          "model_module_version": "1.5.0",
          "state": {
            "_model_module": "@jupyter-widgets/controls",
            "_model_module_version": "1.5.0",
            "_model_name": "DescriptionStyleModel",
            "_view_count": null,
            "_view_module": "@jupyter-widgets/base",
            "_view_module_version": "1.2.0",
            "_view_name": "StyleView",
            "description_width": ""
          }
        },
        "aaa92c76315d443388574b83f0fe5d05": {
          "model_module": "@jupyter-widgets/base",
          "model_name": "LayoutModel",
          "model_module_version": "1.2.0",
          "state": {
            "_model_module": "@jupyter-widgets/base",
            "_model_module_version": "1.2.0",
            "_model_name": "LayoutModel",
            "_view_count": null,
            "_view_module": "@jupyter-widgets/base",
            "_view_module_version": "1.2.0",
            "_view_name": "LayoutView",
            "align_content": null,
            "align_items": null,
            "align_self": null,
            "border": null,
            "bottom": null,
            "display": null,
            "flex": null,
            "flex_flow": null,
            "grid_area": null,
            "grid_auto_columns": null,
            "grid_auto_flow": null,
            "grid_auto_rows": null,
            "grid_column": null,
            "grid_gap": null,
            "grid_row": null,
            "grid_template_areas": null,
            "grid_template_columns": null,
            "grid_template_rows": null,
            "height": null,
            "justify_content": null,
            "justify_items": null,
            "left": null,
            "margin": null,
            "max_height": null,
            "max_width": null,
            "min_height": null,
            "min_width": null,
            "object_fit": null,
            "object_position": null,
            "order": null,
            "overflow": null,
            "overflow_x": null,
            "overflow_y": null,
            "padding": null,
            "right": null,
            "top": null,
            "visibility": null,
            "width": null
          }
        },
        "ada1592bb6c643559c5f3567ebc19cdd": {
          "model_module": "@jupyter-widgets/controls",
          "model_name": "ProgressStyleModel",
          "model_module_version": "1.5.0",
          "state": {
            "_model_module": "@jupyter-widgets/controls",
            "_model_module_version": "1.5.0",
            "_model_name": "ProgressStyleModel",
            "_view_count": null,
            "_view_module": "@jupyter-widgets/base",
            "_view_module_version": "1.2.0",
            "_view_name": "StyleView",
            "bar_color": null,
            "description_width": ""
          }
        },
        "dc6411346b56494eb212fc12c9fd07da": {
          "model_module": "@jupyter-widgets/base",
          "model_name": "LayoutModel",
          "model_module_version": "1.2.0",
          "state": {
            "_model_module": "@jupyter-widgets/base",
            "_model_module_version": "1.2.0",
            "_model_name": "LayoutModel",
            "_view_count": null,
            "_view_module": "@jupyter-widgets/base",
            "_view_module_version": "1.2.0",
            "_view_name": "LayoutView",
            "align_content": null,
            "align_items": null,
            "align_self": null,
            "border": null,
            "bottom": null,
            "display": null,
            "flex": null,
            "flex_flow": null,
            "grid_area": null,
            "grid_auto_columns": null,
            "grid_auto_flow": null,
            "grid_auto_rows": null,
            "grid_column": null,
            "grid_gap": null,
            "grid_row": null,
            "grid_template_areas": null,
            "grid_template_columns": null,
            "grid_template_rows": null,
            "height": null,
            "justify_content": null,
            "justify_items": null,
            "left": null,
            "margin": null,
            "max_height": null,
            "max_width": null,
            "min_height": null,
            "min_width": null,
            "object_fit": null,
            "object_position": null,
            "order": null,
            "overflow": null,
            "overflow_x": null,
            "overflow_y": null,
            "padding": null,
            "right": null,
            "top": null,
            "visibility": null,
            "width": null
          }
        },
        "75dbb234157c4b8da827ed7932e76e45": {
          "model_module": "@jupyter-widgets/controls",
          "model_name": "DescriptionStyleModel",
          "model_module_version": "1.5.0",
          "state": {
            "_model_module": "@jupyter-widgets/controls",
            "_model_module_version": "1.5.0",
            "_model_name": "DescriptionStyleModel",
            "_view_count": null,
            "_view_module": "@jupyter-widgets/base",
            "_view_module_version": "1.2.0",
            "_view_name": "StyleView",
            "description_width": ""
          }
        },
        "b1365130c92c4b76aa1851ff028cb496": {
          "model_module": "@jupyter-widgets/controls",
          "model_name": "HBoxModel",
          "model_module_version": "1.5.0",
          "state": {
            "_dom_classes": [],
            "_model_module": "@jupyter-widgets/controls",
            "_model_module_version": "1.5.0",
            "_model_name": "HBoxModel",
            "_view_count": null,
            "_view_module": "@jupyter-widgets/controls",
            "_view_module_version": "1.5.0",
            "_view_name": "HBoxView",
            "box_style": "",
            "children": [
              "IPY_MODEL_967a764e402d49eb9ea4cd7125246d80",
              "IPY_MODEL_4efac6ec939c4fc6b763cac7d237aa94",
              "IPY_MODEL_a269e5fba0d945b49f7c6f6e6431b1b2"
            ],
            "layout": "IPY_MODEL_b4860c177dbc4a97af7d2db7cfe79035"
          }
        },
        "967a764e402d49eb9ea4cd7125246d80": {
          "model_module": "@jupyter-widgets/controls",
          "model_name": "HTMLModel",
          "model_module_version": "1.5.0",
          "state": {
            "_dom_classes": [],
            "_model_module": "@jupyter-widgets/controls",
            "_model_module_version": "1.5.0",
            "_model_name": "HTMLModel",
            "_view_count": null,
            "_view_module": "@jupyter-widgets/controls",
            "_view_module_version": "1.5.0",
            "_view_name": "HTMLView",
            "description": "",
            "description_tooltip": null,
            "layout": "IPY_MODEL_3c55204734004af5b29e14f9573100a3",
            "placeholder": "​",
            "style": "IPY_MODEL_786f4f0ccc4d46bb80953ba56220e86f",
            "value": "model.safetensors: 100%"
          }
        },
        "4efac6ec939c4fc6b763cac7d237aa94": {
          "model_module": "@jupyter-widgets/controls",
          "model_name": "FloatProgressModel",
          "model_module_version": "1.5.0",
          "state": {
            "_dom_classes": [],
            "_model_module": "@jupyter-widgets/controls",
            "_model_module_version": "1.5.0",
            "_model_name": "FloatProgressModel",
            "_view_count": null,
            "_view_module": "@jupyter-widgets/controls",
            "_view_module_version": "1.5.0",
            "_view_name": "ProgressView",
            "bar_style": "success",
            "description": "",
            "description_tooltip": null,
            "layout": "IPY_MODEL_faf09e4dfa944913aea5f4e3dc299eee",
            "max": 500982668,
            "min": 0,
            "orientation": "horizontal",
            "style": "IPY_MODEL_dd212fee4b9548349edfc47a3412e0ea",
            "value": 500982668
          }
        },
        "a269e5fba0d945b49f7c6f6e6431b1b2": {
          "model_module": "@jupyter-widgets/controls",
          "model_name": "HTMLModel",
          "model_module_version": "1.5.0",
          "state": {
            "_dom_classes": [],
            "_model_module": "@jupyter-widgets/controls",
            "_model_module_version": "1.5.0",
            "_model_name": "HTMLModel",
            "_view_count": null,
            "_view_module": "@jupyter-widgets/controls",
            "_view_module_version": "1.5.0",
            "_view_name": "HTMLView",
            "description": "",
            "description_tooltip": null,
            "layout": "IPY_MODEL_bb86869b8563485db8e0834cf9971c0d",
            "placeholder": "​",
            "style": "IPY_MODEL_fa683a4c23c44a828ab85defee237c4e",
            "value": " 501M/501M [00:05&lt;00:00, 103MB/s]"
          }
        },
        "b4860c177dbc4a97af7d2db7cfe79035": {
          "model_module": "@jupyter-widgets/base",
          "model_name": "LayoutModel",
          "model_module_version": "1.2.0",
          "state": {
            "_model_module": "@jupyter-widgets/base",
            "_model_module_version": "1.2.0",
            "_model_name": "LayoutModel",
            "_view_count": null,
            "_view_module": "@jupyter-widgets/base",
            "_view_module_version": "1.2.0",
            "_view_name": "LayoutView",
            "align_content": null,
            "align_items": null,
            "align_self": null,
            "border": null,
            "bottom": null,
            "display": null,
            "flex": null,
            "flex_flow": null,
            "grid_area": null,
            "grid_auto_columns": null,
            "grid_auto_flow": null,
            "grid_auto_rows": null,
            "grid_column": null,
            "grid_gap": null,
            "grid_row": null,
            "grid_template_areas": null,
            "grid_template_columns": null,
            "grid_template_rows": null,
            "height": null,
            "justify_content": null,
            "justify_items": null,
            "left": null,
            "margin": null,
            "max_height": null,
            "max_width": null,
            "min_height": null,
            "min_width": null,
            "object_fit": null,
            "object_position": null,
            "order": null,
            "overflow": null,
            "overflow_x": null,
            "overflow_y": null,
            "padding": null,
            "right": null,
            "top": null,
            "visibility": null,
            "width": null
          }
        },
        "3c55204734004af5b29e14f9573100a3": {
          "model_module": "@jupyter-widgets/base",
          "model_name": "LayoutModel",
          "model_module_version": "1.2.0",
          "state": {
            "_model_module": "@jupyter-widgets/base",
            "_model_module_version": "1.2.0",
            "_model_name": "LayoutModel",
            "_view_count": null,
            "_view_module": "@jupyter-widgets/base",
            "_view_module_version": "1.2.0",
            "_view_name": "LayoutView",
            "align_content": null,
            "align_items": null,
            "align_self": null,
            "border": null,
            "bottom": null,
            "display": null,
            "flex": null,
            "flex_flow": null,
            "grid_area": null,
            "grid_auto_columns": null,
            "grid_auto_flow": null,
            "grid_auto_rows": null,
            "grid_column": null,
            "grid_gap": null,
            "grid_row": null,
            "grid_template_areas": null,
            "grid_template_columns": null,
            "grid_template_rows": null,
            "height": null,
            "justify_content": null,
            "justify_items": null,
            "left": null,
            "margin": null,
            "max_height": null,
            "max_width": null,
            "min_height": null,
            "min_width": null,
            "object_fit": null,
            "object_position": null,
            "order": null,
            "overflow": null,
            "overflow_x": null,
            "overflow_y": null,
            "padding": null,
            "right": null,
            "top": null,
            "visibility": null,
            "width": null
          }
        },
        "786f4f0ccc4d46bb80953ba56220e86f": {
          "model_module": "@jupyter-widgets/controls",
          "model_name": "DescriptionStyleModel",
          "model_module_version": "1.5.0",
          "state": {
            "_model_module": "@jupyter-widgets/controls",
            "_model_module_version": "1.5.0",
            "_model_name": "DescriptionStyleModel",
            "_view_count": null,
            "_view_module": "@jupyter-widgets/base",
            "_view_module_version": "1.2.0",
            "_view_name": "StyleView",
            "description_width": ""
          }
        },
        "faf09e4dfa944913aea5f4e3dc299eee": {
          "model_module": "@jupyter-widgets/base",
          "model_name": "LayoutModel",
          "model_module_version": "1.2.0",
          "state": {
            "_model_module": "@jupyter-widgets/base",
            "_model_module_version": "1.2.0",
            "_model_name": "LayoutModel",
            "_view_count": null,
            "_view_module": "@jupyter-widgets/base",
            "_view_module_version": "1.2.0",
            "_view_name": "LayoutView",
            "align_content": null,
            "align_items": null,
            "align_self": null,
            "border": null,
            "bottom": null,
            "display": null,
            "flex": null,
            "flex_flow": null,
            "grid_area": null,
            "grid_auto_columns": null,
            "grid_auto_flow": null,
            "grid_auto_rows": null,
            "grid_column": null,
            "grid_gap": null,
            "grid_row": null,
            "grid_template_areas": null,
            "grid_template_columns": null,
            "grid_template_rows": null,
            "height": null,
            "justify_content": null,
            "justify_items": null,
            "left": null,
            "margin": null,
            "max_height": null,
            "max_width": null,
            "min_height": null,
            "min_width": null,
            "object_fit": null,
            "object_position": null,
            "order": null,
            "overflow": null,
            "overflow_x": null,
            "overflow_y": null,
            "padding": null,
            "right": null,
            "top": null,
            "visibility": null,
            "width": null
          }
        },
        "dd212fee4b9548349edfc47a3412e0ea": {
          "model_module": "@jupyter-widgets/controls",
          "model_name": "ProgressStyleModel",
          "model_module_version": "1.5.0",
          "state": {
            "_model_module": "@jupyter-widgets/controls",
            "_model_module_version": "1.5.0",
            "_model_name": "ProgressStyleModel",
            "_view_count": null,
            "_view_module": "@jupyter-widgets/base",
            "_view_module_version": "1.2.0",
            "_view_name": "StyleView",
            "bar_color": null,
            "description_width": ""
          }
        },
        "bb86869b8563485db8e0834cf9971c0d": {
          "model_module": "@jupyter-widgets/base",
          "model_name": "LayoutModel",
          "model_module_version": "1.2.0",
          "state": {
            "_model_module": "@jupyter-widgets/base",
            "_model_module_version": "1.2.0",
            "_model_name": "LayoutModel",
            "_view_count": null,
            "_view_module": "@jupyter-widgets/base",
            "_view_module_version": "1.2.0",
            "_view_name": "LayoutView",
            "align_content": null,
            "align_items": null,
            "align_self": null,
            "border": null,
            "bottom": null,
            "display": null,
            "flex": null,
            "flex_flow": null,
            "grid_area": null,
            "grid_auto_columns": null,
            "grid_auto_flow": null,
            "grid_auto_rows": null,
            "grid_column": null,
            "grid_gap": null,
            "grid_row": null,
            "grid_template_areas": null,
            "grid_template_columns": null,
            "grid_template_rows": null,
            "height": null,
            "justify_content": null,
            "justify_items": null,
            "left": null,
            "margin": null,
            "max_height": null,
            "max_width": null,
            "min_height": null,
            "min_width": null,
            "object_fit": null,
            "object_position": null,
            "order": null,
            "overflow": null,
            "overflow_x": null,
            "overflow_y": null,
            "padding": null,
            "right": null,
            "top": null,
            "visibility": null,
            "width": null
          }
        },
        "fa683a4c23c44a828ab85defee237c4e": {
          "model_module": "@jupyter-widgets/controls",
          "model_name": "DescriptionStyleModel",
          "model_module_version": "1.5.0",
          "state": {
            "_model_module": "@jupyter-widgets/controls",
            "_model_module_version": "1.5.0",
            "_model_name": "DescriptionStyleModel",
            "_view_count": null,
            "_view_module": "@jupyter-widgets/base",
            "_view_module_version": "1.2.0",
            "_view_name": "StyleView",
            "description_width": ""
          }
        },
        "bb50971a8a68422b83415103f171556a": {
          "model_module": "@jupyter-widgets/controls",
          "model_name": "HBoxModel",
          "model_module_version": "1.5.0",
          "state": {
            "_dom_classes": [],
            "_model_module": "@jupyter-widgets/controls",
            "_model_module_version": "1.5.0",
            "_model_name": "HBoxModel",
            "_view_count": null,
            "_view_module": "@jupyter-widgets/controls",
            "_view_module_version": "1.5.0",
            "_view_name": "HBoxView",
            "box_style": "",
            "children": [
              "IPY_MODEL_4abfc473b0a641b59b660aa641a76bd1",
              "IPY_MODEL_f61d495b44d443ff9c15e4931fba5719",
              "IPY_MODEL_2fe15b288e914e3e8d235370f168f9b9"
            ],
            "layout": "IPY_MODEL_4559b45dafcc4ded91cc05be3945ad13"
          }
        },
        "4abfc473b0a641b59b660aa641a76bd1": {
          "model_module": "@jupyter-widgets/controls",
          "model_name": "HTMLModel",
          "model_module_version": "1.5.0",
          "state": {
            "_dom_classes": [],
            "_model_module": "@jupyter-widgets/controls",
            "_model_module_version": "1.5.0",
            "_model_name": "HTMLModel",
            "_view_count": null,
            "_view_module": "@jupyter-widgets/controls",
            "_view_module_version": "1.5.0",
            "_view_name": "HTMLView",
            "description": "",
            "description_tooltip": null,
            "layout": "IPY_MODEL_723e2499a5b544099bb0ee06182095bf",
            "placeholder": "​",
            "style": "IPY_MODEL_adf56160dc97440fbed55b6bb4e72329",
            "value": "merges.txt: 100%"
          }
        },
        "f61d495b44d443ff9c15e4931fba5719": {
          "model_module": "@jupyter-widgets/controls",
          "model_name": "FloatProgressModel",
          "model_module_version": "1.5.0",
          "state": {
            "_dom_classes": [],
            "_model_module": "@jupyter-widgets/controls",
            "_model_module_version": "1.5.0",
            "_model_name": "FloatProgressModel",
            "_view_count": null,
            "_view_module": "@jupyter-widgets/controls",
            "_view_module_version": "1.5.0",
            "_view_name": "ProgressView",
            "bar_style": "success",
            "description": "",
            "description_tooltip": null,
            "layout": "IPY_MODEL_c07c1b575cf243b98650a1d91419d7c7",
            "max": 456318,
            "min": 0,
            "orientation": "horizontal",
            "style": "IPY_MODEL_5aae14cdd09a4c90b239a0993fe3ea97",
            "value": 456318
          }
        },
        "2fe15b288e914e3e8d235370f168f9b9": {
          "model_module": "@jupyter-widgets/controls",
          "model_name": "HTMLModel",
          "model_module_version": "1.5.0",
          "state": {
            "_dom_classes": [],
            "_model_module": "@jupyter-widgets/controls",
            "_model_module_version": "1.5.0",
            "_model_name": "HTMLModel",
            "_view_count": null,
            "_view_module": "@jupyter-widgets/controls",
            "_view_module_version": "1.5.0",
            "_view_name": "HTMLView",
            "description": "",
            "description_tooltip": null,
            "layout": "IPY_MODEL_555754d390394fefaa89daa64bfb15d6",
            "placeholder": "​",
            "style": "IPY_MODEL_81b869579f3042a9a297a9c605a520ce",
            "value": " 456k/456k [00:00&lt;00:00, 5.16MB/s]"
          }
        },
        "4559b45dafcc4ded91cc05be3945ad13": {
          "model_module": "@jupyter-widgets/base",
          "model_name": "LayoutModel",
          "model_module_version": "1.2.0",
          "state": {
            "_model_module": "@jupyter-widgets/base",
            "_model_module_version": "1.2.0",
            "_model_name": "LayoutModel",
            "_view_count": null,
            "_view_module": "@jupyter-widgets/base",
            "_view_module_version": "1.2.0",
            "_view_name": "LayoutView",
            "align_content": null,
            "align_items": null,
            "align_self": null,
            "border": null,
            "bottom": null,
            "display": null,
            "flex": null,
            "flex_flow": null,
            "grid_area": null,
            "grid_auto_columns": null,
            "grid_auto_flow": null,
            "grid_auto_rows": null,
            "grid_column": null,
            "grid_gap": null,
            "grid_row": null,
            "grid_template_areas": null,
            "grid_template_columns": null,
            "grid_template_rows": null,
            "height": null,
            "justify_content": null,
            "justify_items": null,
            "left": null,
            "margin": null,
            "max_height": null,
            "max_width": null,
            "min_height": null,
            "min_width": null,
            "object_fit": null,
            "object_position": null,
            "order": null,
            "overflow": null,
            "overflow_x": null,
            "overflow_y": null,
            "padding": null,
            "right": null,
            "top": null,
            "visibility": null,
            "width": null
          }
        },
        "723e2499a5b544099bb0ee06182095bf": {
          "model_module": "@jupyter-widgets/base",
          "model_name": "LayoutModel",
          "model_module_version": "1.2.0",
          "state": {
            "_model_module": "@jupyter-widgets/base",
            "_model_module_version": "1.2.0",
            "_model_name": "LayoutModel",
            "_view_count": null,
            "_view_module": "@jupyter-widgets/base",
            "_view_module_version": "1.2.0",
            "_view_name": "LayoutView",
            "align_content": null,
            "align_items": null,
            "align_self": null,
            "border": null,
            "bottom": null,
            "display": null,
            "flex": null,
            "flex_flow": null,
            "grid_area": null,
            "grid_auto_columns": null,
            "grid_auto_flow": null,
            "grid_auto_rows": null,
            "grid_column": null,
            "grid_gap": null,
            "grid_row": null,
            "grid_template_areas": null,
            "grid_template_columns": null,
            "grid_template_rows": null,
            "height": null,
            "justify_content": null,
            "justify_items": null,
            "left": null,
            "margin": null,
            "max_height": null,
            "max_width": null,
            "min_height": null,
            "min_width": null,
            "object_fit": null,
            "object_position": null,
            "order": null,
            "overflow": null,
            "overflow_x": null,
            "overflow_y": null,
            "padding": null,
            "right": null,
            "top": null,
            "visibility": null,
            "width": null
          }
        },
        "adf56160dc97440fbed55b6bb4e72329": {
          "model_module": "@jupyter-widgets/controls",
          "model_name": "DescriptionStyleModel",
          "model_module_version": "1.5.0",
          "state": {
            "_model_module": "@jupyter-widgets/controls",
            "_model_module_version": "1.5.0",
            "_model_name": "DescriptionStyleModel",
            "_view_count": null,
            "_view_module": "@jupyter-widgets/base",
            "_view_module_version": "1.2.0",
            "_view_name": "StyleView",
            "description_width": ""
          }
        },
        "c07c1b575cf243b98650a1d91419d7c7": {
          "model_module": "@jupyter-widgets/base",
          "model_name": "LayoutModel",
          "model_module_version": "1.2.0",
          "state": {
            "_model_module": "@jupyter-widgets/base",
            "_model_module_version": "1.2.0",
            "_model_name": "LayoutModel",
            "_view_count": null,
            "_view_module": "@jupyter-widgets/base",
            "_view_module_version": "1.2.0",
            "_view_name": "LayoutView",
            "align_content": null,
            "align_items": null,
            "align_self": null,
            "border": null,
            "bottom": null,
            "display": null,
            "flex": null,
            "flex_flow": null,
            "grid_area": null,
            "grid_auto_columns": null,
            "grid_auto_flow": null,
            "grid_auto_rows": null,
            "grid_column": null,
            "grid_gap": null,
            "grid_row": null,
            "grid_template_areas": null,
            "grid_template_columns": null,
            "grid_template_rows": null,
            "height": null,
            "justify_content": null,
            "justify_items": null,
            "left": null,
            "margin": null,
            "max_height": null,
            "max_width": null,
            "min_height": null,
            "min_width": null,
            "object_fit": null,
            "object_position": null,
            "order": null,
            "overflow": null,
            "overflow_x": null,
            "overflow_y": null,
            "padding": null,
            "right": null,
            "top": null,
            "visibility": null,
            "width": null
          }
        },
        "5aae14cdd09a4c90b239a0993fe3ea97": {
          "model_module": "@jupyter-widgets/controls",
          "model_name": "ProgressStyleModel",
          "model_module_version": "1.5.0",
          "state": {
            "_model_module": "@jupyter-widgets/controls",
            "_model_module_version": "1.5.0",
            "_model_name": "ProgressStyleModel",
            "_view_count": null,
            "_view_module": "@jupyter-widgets/base",
            "_view_module_version": "1.2.0",
            "_view_name": "StyleView",
            "bar_color": null,
            "description_width": ""
          }
        },
        "555754d390394fefaa89daa64bfb15d6": {
          "model_module": "@jupyter-widgets/base",
          "model_name": "LayoutModel",
          "model_module_version": "1.2.0",
          "state": {
            "_model_module": "@jupyter-widgets/base",
            "_model_module_version": "1.2.0",
            "_model_name": "LayoutModel",
            "_view_count": null,
            "_view_module": "@jupyter-widgets/base",
            "_view_module_version": "1.2.0",
            "_view_name": "LayoutView",
            "align_content": null,
            "align_items": null,
            "align_self": null,
            "border": null,
            "bottom": null,
            "display": null,
            "flex": null,
            "flex_flow": null,
            "grid_area": null,
            "grid_auto_columns": null,
            "grid_auto_flow": null,
            "grid_auto_rows": null,
            "grid_column": null,
            "grid_gap": null,
            "grid_row": null,
            "grid_template_areas": null,
            "grid_template_columns": null,
            "grid_template_rows": null,
            "height": null,
            "justify_content": null,
            "justify_items": null,
            "left": null,
            "margin": null,
            "max_height": null,
            "max_width": null,
            "min_height": null,
            "min_width": null,
            "object_fit": null,
            "object_position": null,
            "order": null,
            "overflow": null,
            "overflow_x": null,
            "overflow_y": null,
            "padding": null,
            "right": null,
            "top": null,
            "visibility": null,
            "width": null
          }
        },
        "81b869579f3042a9a297a9c605a520ce": {
          "model_module": "@jupyter-widgets/controls",
          "model_name": "DescriptionStyleModel",
          "model_module_version": "1.5.0",
          "state": {
            "_model_module": "@jupyter-widgets/controls",
            "_model_module_version": "1.5.0",
            "_model_name": "DescriptionStyleModel",
            "_view_count": null,
            "_view_module": "@jupyter-widgets/base",
            "_view_module_version": "1.2.0",
            "_view_name": "StyleView",
            "description_width": ""
          }
        },
        "570c6179d48847efb89f50bfa691f729": {
          "model_module": "@jupyter-widgets/controls",
          "model_name": "HBoxModel",
          "model_module_version": "1.5.0",
          "state": {
            "_dom_classes": [],
            "_model_module": "@jupyter-widgets/controls",
            "_model_module_version": "1.5.0",
            "_model_name": "HBoxModel",
            "_view_count": null,
            "_view_module": "@jupyter-widgets/controls",
            "_view_module_version": "1.5.0",
            "_view_name": "HBoxView",
            "box_style": "",
            "children": [
              "IPY_MODEL_3ed82054c0b348648da642ecbe44fdd4",
              "IPY_MODEL_532c333aa478427c9d5c541c3f37e3fa",
              "IPY_MODEL_0cc70418258f477c8a162d09b42495c2"
            ],
            "layout": "IPY_MODEL_8650d623755e42d7908783e426456952"
          }
        },
        "3ed82054c0b348648da642ecbe44fdd4": {
          "model_module": "@jupyter-widgets/controls",
          "model_name": "HTMLModel",
          "model_module_version": "1.5.0",
          "state": {
            "_dom_classes": [],
            "_model_module": "@jupyter-widgets/controls",
            "_model_module_version": "1.5.0",
            "_model_name": "HTMLModel",
            "_view_count": null,
            "_view_module": "@jupyter-widgets/controls",
            "_view_module_version": "1.5.0",
            "_view_name": "HTMLView",
            "description": "",
            "description_tooltip": null,
            "layout": "IPY_MODEL_899a104668af45b3ba4bff9e1f7c7dce",
            "placeholder": "​",
            "style": "IPY_MODEL_2bd815535de3404587a35028d274df57",
            "value": "special_tokens_map.json: 100%"
          }
        },
        "532c333aa478427c9d5c541c3f37e3fa": {
          "model_module": "@jupyter-widgets/controls",
          "model_name": "FloatProgressModel",
          "model_module_version": "1.5.0",
          "state": {
            "_dom_classes": [],
            "_model_module": "@jupyter-widgets/controls",
            "_model_module_version": "1.5.0",
            "_model_name": "FloatProgressModel",
            "_view_count": null,
            "_view_module": "@jupyter-widgets/controls",
            "_view_module_version": "1.5.0",
            "_view_name": "ProgressView",
            "bar_style": "success",
            "description": "",
            "description_tooltip": null,
            "layout": "IPY_MODEL_819cff27de604f10b525628eca056793",
            "max": 239,
            "min": 0,
            "orientation": "horizontal",
            "style": "IPY_MODEL_eb97ba4bc3d346ffb28a8e40c052fca8",
            "value": 239
          }
        },
        "0cc70418258f477c8a162d09b42495c2": {
          "model_module": "@jupyter-widgets/controls",
          "model_name": "HTMLModel",
          "model_module_version": "1.5.0",
          "state": {
            "_dom_classes": [],
            "_model_module": "@jupyter-widgets/controls",
            "_model_module_version": "1.5.0",
            "_model_name": "HTMLModel",
            "_view_count": null,
            "_view_module": "@jupyter-widgets/controls",
            "_view_module_version": "1.5.0",
            "_view_name": "HTMLView",
            "description": "",
            "description_tooltip": null,
            "layout": "IPY_MODEL_400f6f478a3d46269740f49c3328448c",
            "placeholder": "​",
            "style": "IPY_MODEL_a744436f44514a83898dc024d17be947",
            "value": " 239/239 [00:00&lt;00:00, 2.11kB/s]"
          }
        },
        "8650d623755e42d7908783e426456952": {
          "model_module": "@jupyter-widgets/base",
          "model_name": "LayoutModel",
          "model_module_version": "1.2.0",
          "state": {
            "_model_module": "@jupyter-widgets/base",
            "_model_module_version": "1.2.0",
            "_model_name": "LayoutModel",
            "_view_count": null,
            "_view_module": "@jupyter-widgets/base",
            "_view_module_version": "1.2.0",
            "_view_name": "LayoutView",
            "align_content": null,
            "align_items": null,
            "align_self": null,
            "border": null,
            "bottom": null,
            "display": null,
            "flex": null,
            "flex_flow": null,
            "grid_area": null,
            "grid_auto_columns": null,
            "grid_auto_flow": null,
            "grid_auto_rows": null,
            "grid_column": null,
            "grid_gap": null,
            "grid_row": null,
            "grid_template_areas": null,
            "grid_template_columns": null,
            "grid_template_rows": null,
            "height": null,
            "justify_content": null,
            "justify_items": null,
            "left": null,
            "margin": null,
            "max_height": null,
            "max_width": null,
            "min_height": null,
            "min_width": null,
            "object_fit": null,
            "object_position": null,
            "order": null,
            "overflow": null,
            "overflow_x": null,
            "overflow_y": null,
            "padding": null,
            "right": null,
            "top": null,
            "visibility": null,
            "width": null
          }
        },
        "899a104668af45b3ba4bff9e1f7c7dce": {
          "model_module": "@jupyter-widgets/base",
          "model_name": "LayoutModel",
          "model_module_version": "1.2.0",
          "state": {
            "_model_module": "@jupyter-widgets/base",
            "_model_module_version": "1.2.0",
            "_model_name": "LayoutModel",
            "_view_count": null,
            "_view_module": "@jupyter-widgets/base",
            "_view_module_version": "1.2.0",
            "_view_name": "LayoutView",
            "align_content": null,
            "align_items": null,
            "align_self": null,
            "border": null,
            "bottom": null,
            "display": null,
            "flex": null,
            "flex_flow": null,
            "grid_area": null,
            "grid_auto_columns": null,
            "grid_auto_flow": null,
            "grid_auto_rows": null,
            "grid_column": null,
            "grid_gap": null,
            "grid_row": null,
            "grid_template_areas": null,
            "grid_template_columns": null,
            "grid_template_rows": null,
            "height": null,
            "justify_content": null,
            "justify_items": null,
            "left": null,
            "margin": null,
            "max_height": null,
            "max_width": null,
            "min_height": null,
            "min_width": null,
            "object_fit": null,
            "object_position": null,
            "order": null,
            "overflow": null,
            "overflow_x": null,
            "overflow_y": null,
            "padding": null,
            "right": null,
            "top": null,
            "visibility": null,
            "width": null
          }
        },
        "2bd815535de3404587a35028d274df57": {
          "model_module": "@jupyter-widgets/controls",
          "model_name": "DescriptionStyleModel",
          "model_module_version": "1.5.0",
          "state": {
            "_model_module": "@jupyter-widgets/controls",
            "_model_module_version": "1.5.0",
            "_model_name": "DescriptionStyleModel",
            "_view_count": null,
            "_view_module": "@jupyter-widgets/base",
            "_view_module_version": "1.2.0",
            "_view_name": "StyleView",
            "description_width": ""
          }
        },
        "819cff27de604f10b525628eca056793": {
          "model_module": "@jupyter-widgets/base",
          "model_name": "LayoutModel",
          "model_module_version": "1.2.0",
          "state": {
            "_model_module": "@jupyter-widgets/base",
            "_model_module_version": "1.2.0",
            "_model_name": "LayoutModel",
            "_view_count": null,
            "_view_module": "@jupyter-widgets/base",
            "_view_module_version": "1.2.0",
            "_view_name": "LayoutView",
            "align_content": null,
            "align_items": null,
            "align_self": null,
            "border": null,
            "bottom": null,
            "display": null,
            "flex": null,
            "flex_flow": null,
            "grid_area": null,
            "grid_auto_columns": null,
            "grid_auto_flow": null,
            "grid_auto_rows": null,
            "grid_column": null,
            "grid_gap": null,
            "grid_row": null,
            "grid_template_areas": null,
            "grid_template_columns": null,
            "grid_template_rows": null,
            "height": null,
            "justify_content": null,
            "justify_items": null,
            "left": null,
            "margin": null,
            "max_height": null,
            "max_width": null,
            "min_height": null,
            "min_width": null,
            "object_fit": null,
            "object_position": null,
            "order": null,
            "overflow": null,
            "overflow_x": null,
            "overflow_y": null,
            "padding": null,
            "right": null,
            "top": null,
            "visibility": null,
            "width": null
          }
        },
        "eb97ba4bc3d346ffb28a8e40c052fca8": {
          "model_module": "@jupyter-widgets/controls",
          "model_name": "ProgressStyleModel",
          "model_module_version": "1.5.0",
          "state": {
            "_model_module": "@jupyter-widgets/controls",
            "_model_module_version": "1.5.0",
            "_model_name": "ProgressStyleModel",
            "_view_count": null,
            "_view_module": "@jupyter-widgets/base",
            "_view_module_version": "1.2.0",
            "_view_name": "StyleView",
            "bar_color": null,
            "description_width": ""
          }
        },
        "400f6f478a3d46269740f49c3328448c": {
          "model_module": "@jupyter-widgets/base",
          "model_name": "LayoutModel",
          "model_module_version": "1.2.0",
          "state": {
            "_model_module": "@jupyter-widgets/base",
            "_model_module_version": "1.2.0",
            "_model_name": "LayoutModel",
            "_view_count": null,
            "_view_module": "@jupyter-widgets/base",
            "_view_module_version": "1.2.0",
            "_view_name": "LayoutView",
            "align_content": null,
            "align_items": null,
            "align_self": null,
            "border": null,
            "bottom": null,
            "display": null,
            "flex": null,
            "flex_flow": null,
            "grid_area": null,
            "grid_auto_columns": null,
            "grid_auto_flow": null,
            "grid_auto_rows": null,
            "grid_column": null,
            "grid_gap": null,
            "grid_row": null,
            "grid_template_areas": null,
            "grid_template_columns": null,
            "grid_template_rows": null,
            "height": null,
            "justify_content": null,
            "justify_items": null,
            "left": null,
            "margin": null,
            "max_height": null,
            "max_width": null,
            "min_height": null,
            "min_width": null,
            "object_fit": null,
            "object_position": null,
            "order": null,
            "overflow": null,
            "overflow_x": null,
            "overflow_y": null,
            "padding": null,
            "right": null,
            "top": null,
            "visibility": null,
            "width": null
          }
        },
        "a744436f44514a83898dc024d17be947": {
          "model_module": "@jupyter-widgets/controls",
          "model_name": "DescriptionStyleModel",
          "model_module_version": "1.5.0",
          "state": {
            "_model_module": "@jupyter-widgets/controls",
            "_model_module_version": "1.5.0",
            "_model_name": "DescriptionStyleModel",
            "_view_count": null,
            "_view_module": "@jupyter-widgets/base",
            "_view_module_version": "1.2.0",
            "_view_name": "StyleView",
            "description_width": ""
          }
        }
      }
    }
  },
  "cells": [
    {
      "cell_type": "markdown",
      "source": [
        "# TUIA NLP 2025 - TP 1 - Parte 2"
      ],
      "metadata": {
        "id": "YjW6eH2dGzgz"
      }
    },
    {
      "cell_type": "markdown",
      "source": [
        "## Descarga de Datos"
      ],
      "metadata": {
        "id": "A-hgRyFkHEIP"
      }
    },
    {
      "cell_type": "code",
      "execution_count": 2,
      "metadata": {
        "colab": {
          "base_uri": "https://localhost:8080/"
        },
        "id": "8JUds1X_1EkW",
        "outputId": "4e454711-0a9f-4340-920f-7f23f4f66145"
      },
      "outputs": [
        {
          "output_type": "stream",
          "name": "stderr",
          "text": [
            "Downloading...\n",
            "From: https://drive.google.com/uc?id=1liIFgFkBaBApd11S1ZiTWXtrhU6qhNMz\n",
            "To: /content/Datos.zip\n",
            "100%|██████████| 182k/182k [00:00<00:00, 64.7MB/s]\n"
          ]
        }
      ],
      "source": [
        "!pip install -q gdown\n",
        "import gdown\n",
        "import zipfile\n",
        "import os\n",
        "\n",
        "file_id = '1liIFgFkBaBApd11S1ZiTWXtrhU6qhNMz'\n",
        "output = 'Datos.zip'\n",
        "\n",
        "# Descargo la carpeta de datos comprimida como .zip\n",
        "gdown.download(f'https://drive.google.com/uc?id={file_id}', output, quiet=False)\n",
        "\n",
        "# Descomprimir\n",
        "with zipfile.ZipFile(output, 'r') as zip_ref:\n",
        "    zip_ref.extractall('/content')  # Carpeta destino"
      ]
    },
    {
      "cell_type": "markdown",
      "source": [
        "## Ejercicio 2"
      ],
      "metadata": {
        "id": "KD8S_kKIHL0x"
      }
    },
    {
      "source": [
        "# Reinstalo nltk completamente para evitar conflictos\n",
        "!pip install --force-reinstall -q nltk\n",
        "\n",
        "# Descargo el recurso punkt\n",
        "import nltk\n",
        "nltk.download('punkt')\n",
        "\n",
        "# Descargo el recurso punkt_tab necesario para tokenización en español\n",
        "nltk.download('punkt_tab')"
      ],
      "cell_type": "code",
      "metadata": {
        "colab": {
          "base_uri": "https://localhost:8080/"
        },
        "id": "7yJLX6b0Ibqk",
        "outputId": "595ceeca-d0b7-4301-ee38-08c2c68754ed"
      },
      "execution_count": 3,
      "outputs": [
        {
          "output_type": "stream",
          "name": "stdout",
          "text": [
            "\u001b[2K     \u001b[90m━━━━━━━━━━━━━━━━━━━━━━━━━━━━━━━━━━━━━━━━\u001b[0m \u001b[32m40.5/40.5 kB\u001b[0m \u001b[31m2.0 MB/s\u001b[0m eta \u001b[36m0:00:00\u001b[0m\n",
            "\u001b[2K     \u001b[90m━━━━━━━━━━━━━━━━━━━━━━━━━━━━━━━━━━━━━━━━\u001b[0m \u001b[32m57.7/57.7 kB\u001b[0m \u001b[31m3.6 MB/s\u001b[0m eta \u001b[36m0:00:00\u001b[0m\n",
            "\u001b[2K   \u001b[90m━━━━━━━━━━━━━━━━━━━━━━━━━━━━━━━━━━━━━━━━\u001b[0m \u001b[32m1.5/1.5 MB\u001b[0m \u001b[31m23.1 MB/s\u001b[0m eta \u001b[36m0:00:00\u001b[0m\n",
            "\u001b[2K   \u001b[90m━━━━━━━━━━━━━━━━━━━━━━━━━━━━━━━━━━━━━━━━\u001b[0m \u001b[32m792.7/792.7 kB\u001b[0m \u001b[31m30.4 MB/s\u001b[0m eta \u001b[36m0:00:00\u001b[0m\n",
            "\u001b[2K   \u001b[90m━━━━━━━━━━━━━━━━━━━━━━━━━━━━━━━━━━━━━━━━\u001b[0m \u001b[32m102.2/102.2 kB\u001b[0m \u001b[31m4.9 MB/s\u001b[0m eta \u001b[36m0:00:00\u001b[0m\n",
            "\u001b[2K   \u001b[90m━━━━━━━━━━━━━━━━━━━━━━━━━━━━━━━━━━━━━━━━\u001b[0m \u001b[32m307.7/307.7 kB\u001b[0m \u001b[31m17.0 MB/s\u001b[0m eta \u001b[36m0:00:00\u001b[0m\n",
            "\u001b[2K   \u001b[90m━━━━━━━━━━━━━━━━━━━━━━━━━━━━━━━━━━━━━━━━\u001b[0m \u001b[32m78.5/78.5 kB\u001b[0m \u001b[31m4.2 MB/s\u001b[0m eta \u001b[36m0:00:00\u001b[0m\n",
            "\u001b[?25h"
          ]
        },
        {
          "output_type": "stream",
          "name": "stderr",
          "text": [
            "[nltk_data] Downloading package punkt to /root/nltk_data...\n",
            "[nltk_data]   Unzipping tokenizers/punkt.zip.\n",
            "[nltk_data] Downloading package punkt_tab to /root/nltk_data...\n",
            "[nltk_data]   Unzipping tokenizers/punkt_tab.zip.\n"
          ]
        },
        {
          "output_type": "execute_result",
          "data": {
            "text/plain": [
              "True"
            ]
          },
          "metadata": {},
          "execution_count": 3
        }
      ]
    },
    {
      "cell_type": "code",
      "source": [
        "from nltk.tokenize import sent_tokenize\n",
        "\n",
        "with open('/content/Datos/Información/texto_foros_strategy.txt', encoding='utf-8') as f:\n",
        "    texto = f.read()\n",
        "\n",
        "# Tokenizo el texto en oraciones\n",
        "oraciones = sent_tokenize(texto)\n",
        "\n",
        "# Agrupo las oraciones de a 3 para evaluar cual me combiene\n",
        "bloques_de_3 = [' '.join(oraciones[i:i+3]) for i in range(0, len(oraciones), 3)]\n",
        "\n",
        "print(f\"Cantidad de oraciones individuales: {len(oraciones)}\")\n",
        "print(f\"Cantidad de bloques de 3 oraciones: {len(bloques_de_3)}\")\n",
        "\n",
        "print(\"\\nEjemplo de oración individual:\")\n",
        "print(oraciones[0])\n",
        "\n",
        "print(\"\\nEjemplo de bloque de 3 oraciones:\")\n",
        "print(bloques_de_3[0])"
      ],
      "metadata": {
        "colab": {
          "base_uri": "https://localhost:8080/"
        },
        "id": "9MLXUstkHPHV",
        "outputId": "0f4a57b9-21ed-4b25-f471-ddac8be96d2c"
      },
      "execution_count": 4,
      "outputs": [
        {
          "output_type": "stream",
          "name": "stdout",
          "text": [
            "Cantidad de oraciones individuales: 253\n",
            "Cantidad de bloques de 3 oraciones: 85\n",
            "\n",
            "Ejemplo de oración individual:\n",
            "That's a really dull selection!\n",
            "\n",
            "Ejemplo de bloque de 3 oraciones:\n",
            "That's a really dull selection! I'd probably (depending on my monument) very dully focus on cottages. Couple of farms and some chapels.\n"
          ]
        }
      ]
    },
    {
      "cell_type": "markdown",
      "source": [
        "### Vectorizo ambos conjuntos con TF-IDF"
      ],
      "metadata": {
        "id": "X3qxNefnM4hM"
      }
    },
    {
      "cell_type": "code",
      "source": [
        "from sklearn.feature_extraction.text import TfidfVectorizer\n",
        "from sklearn.metrics.pairwise import cosine_similarity\n",
        "\n",
        "# Vectorizo el corpus con oraciones individuales\n",
        "vectorizador_oraciones = TfidfVectorizer()\n",
        "X_oraciones = vectorizador_oraciones.fit_transform(oraciones)\n",
        "\n",
        "# Vectorizo el corpus con bloques de 3 oraciones\n",
        "vectorizador_bloques = TfidfVectorizer()\n",
        "X_bloques = vectorizador_bloques.fit_transform(bloques_de_3)"
      ],
      "metadata": {
        "id": "yFn0GKkCMZlZ"
      },
      "execution_count": 5,
      "outputs": []
    },
    {
      "cell_type": "code",
      "source": [
        "def buscar_similares(query, vectorizador, matriz_tfidf, fragmentos, top_n=3):\n",
        "    '''\n",
        "    Función para mostrar los resultados de similitud para un corpus dado\n",
        "    '''\n",
        "    # Vectorizo la consulta que ingreso\n",
        "    query_vec = vectorizador.transform([query])\n",
        "\n",
        "    # Calculo la similitud del coseno entre la consulta y todos los fragmentos\n",
        "    similitudes = cosine_similarity(query_vec, matriz_tfidf).flatten()\n",
        "\n",
        "    # Obtengo los índices de los fragmentos más similares\n",
        "    indices_top = similitudes.argsort()[::-1][:top_n]\n",
        "\n",
        "    for i in indices_top:\n",
        "        print(f\"\\n🔎 Similitud: {similitudes[i]:.3f}\")\n",
        "        print(fragmentos[i])\n",
        "        print(\"-\" * 80)"
      ],
      "metadata": {
        "id": "uYyhlsuLMwKC"
      },
      "execution_count": 6,
      "outputs": []
    },
    {
      "cell_type": "code",
      "source": [
        "# Defino una consulta de ejemplo\n",
        "query = \"How to score high using Tailors?\"\n",
        "\n",
        "print(\"Resultados con oraciones individuales:\")\n",
        "buscar_similares(query, vectorizador_oraciones, X_oraciones, oraciones)\n",
        "\n",
        "print(\"\\nResultados con bloques de 3 oraciones:\")\n",
        "buscar_similares(query, vectorizador_bloques, X_bloques, bloques_de_3)"
      ],
      "metadata": {
        "colab": {
          "base_uri": "https://localhost:8080/"
        },
        "id": "0PjBaiM6OLq_",
        "outputId": "b7a73437-8ea8-4703-e01e-0ae4eb2ca60d"
      },
      "execution_count": 7,
      "outputs": [
        {
          "output_type": "stream",
          "name": "stdout",
          "text": [
            "Resultados con oraciones individuales:\n",
            "\n",
            "🔎 Similitud: 0.257\n",
            "My first question would be, how are you feeding those cottages to ensure that they score points?\n",
            "--------------------------------------------------------------------------------\n",
            "\n",
            "🔎 Similitud: 0.253\n",
            "Then pump out tailors.\n",
            "--------------------------------------------------------------------------------\n",
            "\n",
            "🔎 Similitud: 0.239\n",
            "It wouldn't be a high scoring game\n",
            "I'd go monument first, then all tailor+millstone\n",
            "Wow that's a low score.\n",
            "--------------------------------------------------------------------------------\n",
            "\n",
            "Resultados con bloques de 3 oraciones:\n",
            "\n",
            "🔎 Similitud: 0.239\n",
            "As far as high scores go, there are a lot of variables. Obviously the buildings you play with make a huge impact on your ability to score big. My highest score is 47.\n",
            "--------------------------------------------------------------------------------\n",
            "\n",
            "🔎 Similitud: 0.208\n",
            "It wouldn't be a high scoring game\n",
            "I'd go monument first, then all tailor+millstone\n",
            "Wow that's a low score. I'm not an expert but I guess try to build on the outside spaces first and keep the building bunched together so you have room to put resources...\n",
            "No, each tailor is worth 5 points, so that's 40 points on tailors alone. You have to read the card for each building individually.\n",
            "--------------------------------------------------------------------------------\n",
            "\n",
            "🔎 Similitud: 0.178\n",
            "If you built 1 Farm, 4 Cottages, and 3 Wells, you could score a max of 12VP for the Cottages and 8VP for the Wells for a total of 20VP across 8 buildings for 2.5VP per building. Meanwhile, if one player managed to make 3 Tailors in the center of their board, they would score 12VP for an average of 4VP per building. And if they pull off 4 Tailors, that's 20 points for only 4 buildings--twice as efficient.\n",
            "--------------------------------------------------------------------------------\n"
          ]
        }
      ]
    },
    {
      "cell_type": "code",
      "source": [
        "# Probando una query distinta\n",
        "query = \"Best buildings to start with?\"\n",
        "\n",
        "print(\"Resultados con oraciones individuales:\")\n",
        "buscar_similares(query, vectorizador_oraciones, X_oraciones, oraciones)\n",
        "\n",
        "print(\"\\nResultados con bloques de 3 oraciones:\")\n",
        "buscar_similares(query, vectorizador_bloques, X_bloques, bloques_de_3)"
      ],
      "metadata": {
        "colab": {
          "base_uri": "https://localhost:8080/"
        },
        "id": "gSCThbWaQCXa",
        "outputId": "9b4c80dd-05af-4609-88f9-3d17168f61a7"
      },
      "execution_count": 8,
      "outputs": [
        {
          "output_type": "stream",
          "name": "stdout",
          "text": [
            "Resultados con oraciones individuales:\n",
            "\n",
            "🔎 Similitud: 0.435\n",
            "I often start with ~2 5-6 cube buildings, then continue with a mix of 3/4 cube buildings.\n",
            "--------------------------------------------------------------------------------\n",
            "\n",
            "🔎 Similitud: 0.326\n",
            "Just topped by best with 48.\n",
            "--------------------------------------------------------------------------------\n",
            "\n",
            "🔎 Similitud: 0.310\n",
            "Best solution.\n",
            "--------------------------------------------------------------------------------\n",
            "\n",
            "Resultados con bloques de 3 oraciones:\n",
            "\n",
            "🔎 Similitud: 0.308\n",
            "Best solution.\n",
            "--------------------------------------------------------------------------------\n",
            "\n",
            "🔎 Similitud: 0.267\n",
            "What’s others best solo game scores? But if you’ve filled your board with your intended buildings, you don’t need cubes anymore. 52, I think, but I am the developer of the game and I specifically tried to have the best setup.\n",
            "--------------------------------------------------------------------------------\n",
            "\n",
            "🔎 Similitud: 0.266\n",
            "My goal is to be one of the last players out. If you're the last player, you can often have only one empty space at the end. I often start with ~2 5-6 cube buildings, then continue with a mix of 3/4 cube buildings.\n",
            "--------------------------------------------------------------------------------\n"
          ]
        }
      ]
    },
    {
      "cell_type": "code",
      "source": [
        "# Probando otra query distinta\n",
        "query = \"What are cottages good for?\"\n",
        "\n",
        "print(\"Resultados con oraciones individuales:\")\n",
        "buscar_similares(query, vectorizador_oraciones, X_oraciones, oraciones)\n",
        "\n",
        "print(\"\\nResultados con bloques de 3 oraciones:\")\n",
        "buscar_similares(query, vectorizador_bloques, X_bloques, bloques_de_3)"
      ],
      "metadata": {
        "colab": {
          "base_uri": "https://localhost:8080/"
        },
        "id": "9UpsyqD0SA-D",
        "outputId": "888175e0-f525-46bc-a9c5-99fab3b571c3"
      },
      "execution_count": 9,
      "outputs": [
        {
          "output_type": "stream",
          "name": "stdout",
          "text": [
            "Resultados con oraciones individuales:\n",
            "\n",
            "🔎 Similitud: 0.291\n",
            "As noted above, cottages are good value for their size and tend to pay out more reliably than other buildings (even a cloister strategy is riskier).\n",
            "--------------------------------------------------------------------------------\n",
            "\n",
            "🔎 Similitud: 0.262\n",
            "What can you get?\n",
            "--------------------------------------------------------------------------------\n",
            "\n",
            "🔎 Similitud: 0.245\n",
            "If you built 1 Farm, 4 Cottages, and 3 Wells, you could score a max of 12VP for the Cottages and 8VP for the Wells for a total of 20VP across 8 buildings for 2.5VP per building.\n",
            "--------------------------------------------------------------------------------\n",
            "\n",
            "Resultados con bloques de 3 oraciones:\n",
            "\n",
            "🔎 Similitud: 0.231\n",
            "It's especially bad when the red building is the granary, which feeds cottages in the 8 squares surrounding it. This makes a cottage strategy quite easy (and dull). As noted above, cottages are good value for their size and tend to pay out more reliably than other buildings (even a cloister strategy is riskier).\n",
            "--------------------------------------------------------------------------------\n",
            "\n",
            "🔎 Similitud: 0.202\n",
            "that's about it. getting an early black building (eg factory) is always good as that's your safety net for cubes. The thing is, most other buildings have the potential to score more than cottages do.\n",
            "--------------------------------------------------------------------------------\n",
            "\n",
            "🔎 Similitud: 0.201\n",
            "Instead he says blue, red, yellow, etc. Show Me How To Win has a short interview with the developer giving some good strategy tips! https://www.youtube.com/watch?v=bSHBNuiiWdE\n",
            "Cottages are very small, easy to build...\n",
            "Lots of good advice here already, but I'll add some tips:\n",
            "\n",
            "* Building in the center squares early is very risky and should only be done if you have a plan to construct around that building quickly.\n",
            "--------------------------------------------------------------------------------\n"
          ]
        }
      ]
    },
    {
      "cell_type": "markdown",
      "source": [
        "Para este tipo de queries más abiertas y estratégicas, los bloques de 3 oraciones son más útiles para el análisis del usuario, aunque sus puntuaciones TF-IDF sean más bajas.\n"
      ],
      "metadata": {
        "id": "Buj_jmAERvgV"
      }
    },
    {
      "cell_type": "markdown",
      "source": [
        "### Vectorizo usando CountVectorizer en modo binario"
      ],
      "metadata": {
        "id": "qR94afRXT2O-"
      }
    },
    {
      "cell_type": "code",
      "source": [
        "from sklearn.feature_extraction.text import CountVectorizer\n",
        "\n",
        "# Vectorizo las oraciones individuales con representación binaria\n",
        "vectorizador_bin_oraciones = CountVectorizer(binary=True)\n",
        "X_bin_oraciones = vectorizador_bin_oraciones.fit_transform(oraciones)\n",
        "\n",
        "# Vectorizo los bloques de 3 oraciones con representación binaria\n",
        "vectorizador_bin_bloques = CountVectorizer(binary=True)\n",
        "X_bin_bloques = vectorizador_bin_bloques.fit_transform(bloques_de_3)\n"
      ],
      "metadata": {
        "id": "p5FspnYRT5c2"
      },
      "execution_count": 10,
      "outputs": []
    },
    {
      "cell_type": "code",
      "source": [
        "import numpy as np\n",
        "\n",
        "# Calculo la similitud de Jaccard entre dos vectores binarios\n",
        "def jaccard_similarity(v1, v2):\n",
        "    intersection = np.logical_and(v1, v2).sum()\n",
        "    union = np.logical_or(v1, v2).sum()\n",
        "    return intersection / union if union != 0 else 0\n",
        "\n",
        "# Calculo la similitud de Dice\n",
        "def dice_similarity(v1, v2):\n",
        "    intersection = np.logical_and(v1, v2).sum()\n",
        "    return 2 * intersection / (v1.sum() + v2.sum()) if (v1.sum() + v2.sum()) != 0 else 0\n"
      ],
      "metadata": {
        "id": "ZZAf0JgGUCay"
      },
      "execution_count": 11,
      "outputs": []
    },
    {
      "cell_type": "code",
      "source": [
        "def buscar_similares_binarios(query, vectorizador, matriz, fragmentos, metrica=\"jaccard\", top_n=3):\n",
        "    # Vectorizo la consulta en binario\n",
        "    vec_query = vectorizador.transform([query]).toarray()[0]\n",
        "\n",
        "    similitudes = []\n",
        "    for i in range(matriz.shape[0]):\n",
        "        vec_doc = matriz[i].toarray()[0]\n",
        "\n",
        "        if metrica == \"jaccard\":\n",
        "            score = jaccard_similarity(vec_query, vec_doc)\n",
        "        elif metrica == \"dice\":\n",
        "            score = dice_similarity(vec_query, vec_doc)\n",
        "        else:\n",
        "            raise ValueError(\"Métrica no reconocida\")\n",
        "\n",
        "        similitudes.append(score)\n",
        "\n",
        "    # Ordeno por similitud descendente\n",
        "    indices_top = np.argsort(similitudes)[::-1][:top_n]\n",
        "\n",
        "    for i in indices_top:\n",
        "        print(f\"\\n🔎 Similitud: {similitudes[i]:.3f}\")\n",
        "        print(fragmentos[i])\n",
        "        print(\"-\" * 80)\n"
      ],
      "metadata": {
        "id": "m-jIu96pULeH"
      },
      "execution_count": 12,
      "outputs": []
    },
    {
      "cell_type": "code",
      "source": [
        "query = \"Best buildings to start with?\"\n",
        "\n",
        "print(\"Jaccard - oraciones individuales:\")\n",
        "buscar_similares_binarios(query, vectorizador_bin_oraciones, X_bin_oraciones, oraciones, metrica=\"jaccard\")\n",
        "\n",
        "print(\"\\nJaccard - bloques de 3 oraciones:\")\n",
        "buscar_similares_binarios(query, vectorizador_bin_bloques, X_bin_bloques, bloques_de_3, metrica=\"jaccard\")\n",
        "\n",
        "print(\"\\nDice - oraciones individuales:\")\n",
        "buscar_similares_binarios(query, vectorizador_bin_oraciones, X_bin_oraciones, oraciones, metrica=\"dice\")\n",
        "\n",
        "print(\"\\nDice - bloques de 3 oraciones:\")\n",
        "buscar_similares_binarios(query, vectorizador_bin_bloques, X_bin_bloques, bloques_de_3, metrica=\"dice\")\n"
      ],
      "metadata": {
        "id": "IvMVQaR4UaeC",
        "outputId": "2fafbec9-0d2d-4db3-8df3-d98d7bc47ef7",
        "colab": {
          "base_uri": "https://localhost:8080/"
        }
      },
      "execution_count": 13,
      "outputs": [
        {
          "output_type": "stream",
          "name": "stdout",
          "text": [
            "Jaccard - oraciones individuales:\n",
            "\n",
            "🔎 Similitud: 0.273\n",
            "I often start with ~2 5-6 cube buildings, then continue with a mix of 3/4 cube buildings.\n",
            "--------------------------------------------------------------------------------\n",
            "\n",
            "🔎 Similitud: 0.222\n",
            "Just topped by best with 48.\n",
            "--------------------------------------------------------------------------------\n",
            "\n",
            "🔎 Similitud: 0.176\n",
            "Obviously the buildings you play with make a huge impact on your ability to score big.\n",
            "--------------------------------------------------------------------------------\n",
            "\n",
            "Jaccard - bloques de 3 oraciones:\n",
            "\n",
            "🔎 Similitud: 0.167\n",
            "Best solution.\n",
            "--------------------------------------------------------------------------------\n",
            "\n",
            "🔎 Similitud: 0.129\n",
            "My goal is to be one of the last players out. If you're the last player, you can often have only one empty space at the end. I often start with ~2 5-6 cube buildings, then continue with a mix of 3/4 cube buildings.\n",
            "--------------------------------------------------------------------------------\n",
            "\n",
            "🔎 Similitud: 0.121\n",
            "What’s others best solo game scores? But if you’ve filled your board with your intended buildings, you don’t need cubes anymore. 52, I think, but I am the developer of the game and I specifically tried to have the best setup.\n",
            "--------------------------------------------------------------------------------\n",
            "\n",
            "Dice - oraciones individuales:\n",
            "\n",
            "🔎 Similitud: 0.429\n",
            "I often start with ~2 5-6 cube buildings, then continue with a mix of 3/4 cube buildings.\n",
            "--------------------------------------------------------------------------------\n",
            "\n",
            "🔎 Similitud: 0.364\n",
            "Just topped by best with 48.\n",
            "--------------------------------------------------------------------------------\n",
            "\n",
            "🔎 Similitud: 0.300\n",
            "Obviously the buildings you play with make a huge impact on your ability to score big.\n",
            "--------------------------------------------------------------------------------\n",
            "\n",
            "Dice - bloques de 3 oraciones:\n",
            "\n",
            "🔎 Similitud: 0.286\n",
            "Best solution.\n",
            "--------------------------------------------------------------------------------\n",
            "\n",
            "🔎 Similitud: 0.229\n",
            "My goal is to be one of the last players out. If you're the last player, you can often have only one empty space at the end. I often start with ~2 5-6 cube buildings, then continue with a mix of 3/4 cube buildings.\n",
            "--------------------------------------------------------------------------------\n",
            "\n",
            "🔎 Similitud: 0.216\n",
            "What’s others best solo game scores? But if you’ve filled your board with your intended buildings, you don’t need cubes anymore. 52, I think, but I am the developer of the game and I specifically tried to have the best setup.\n",
            "--------------------------------------------------------------------------------\n"
          ]
        }
      ]
    },
    {
      "cell_type": "code",
      "source": [
        "from sklearn.metrics.pairwise import cosine_similarity, euclidean_distances, manhattan_distances\n",
        "\n",
        "def comparar_metricas_distancia(query, vectorizador, matriz_tfidf, fragmentos, top_n=3):\n",
        "    \"\"\"Compara diferentes métricas de distancia\"\"\"\n",
        "    query_vec = vectorizador.transform([query])\n",
        "\n",
        "    # Coseno (similitud - mayor es mejor)\n",
        "    sim_coseno = cosine_similarity(query_vec, matriz_tfidf).flatten()\n",
        "\n",
        "    # Euclidiana (distancia - menor es mejor)\n",
        "    dist_euclidiana = euclidean_distances(query_vec, matriz_tfidf).flatten()\n",
        "\n",
        "    # Manhattan (distancia - menor es mejor)\n",
        "    dist_manhattan = manhattan_distances(query_vec, matriz_tfidf).flatten()\n",
        "\n",
        "    # Convierto distancias a similitudes para comparar\n",
        "    sim_euclidiana = 1 / (1 + dist_euclidiana)\n",
        "    sim_manhattan = 1 / (1 + dist_manhattan)\n",
        "\n",
        "    print(\"COMPARACIÓN DE MÉTRICAS:\\n\")\n",
        "\n",
        "\n",
        "    # Top 3 para cada métrica\n",
        "    for metric_name, similarities in [\n",
        "        (\"Coseno\", sim_coseno),\n",
        "        (\"Euclidiana\", sim_euclidiana),\n",
        "        (\"Manhattan\", sim_manhattan)\n",
        "    ]:\n",
        "        print(f\"\\n🔹 {metric_name}:\")\n",
        "        indices_top = similarities.argsort()[::-1][:top_n]\n",
        "        for i, idx in enumerate(indices_top):\n",
        "            print(f\"  {i+1}. Score: {similarities[idx]:.3f}\")\n",
        "            print(f\"     Text: {fragmentos[idx][:100]}...\")"
      ],
      "metadata": {
        "id": "JId84llqPrNW"
      },
      "execution_count": 14,
      "outputs": []
    },
    {
      "cell_type": "markdown",
      "source": [
        "### Visualización 3D con PCA\n"
      ],
      "metadata": {
        "id": "k7LEMwxbQfMq"
      }
    },
    {
      "cell_type": "code",
      "source": [
        "from sklearn.decomposition import PCA\n",
        "import matplotlib.pyplot as plt\n",
        "\n",
        "def visualizar_embeddings_3d(matriz_tfidf, fragmentos, query, vectorizador):\n",
        "    \"\"\"Visualiza embeddings en 3D usando PCA\"\"\"\n",
        "\n",
        "    # Agrego la query al conjunto\n",
        "    query_vec = vectorizador.transform([query])\n",
        "    matriz_completa = np.vstack([matriz_tfidf.toarray(), query_vec.toarray()])\n",
        "\n",
        "    # Reduzco dimensionalidad con PCA\n",
        "    pca = PCA(n_components=3)\n",
        "    coords_3d = pca.fit_transform(matriz_completa)\n",
        "\n",
        "    # Creo la visualización\n",
        "    fig = plt.figure(figsize=(12, 8))\n",
        "    ax = fig.add_subplot(111, projection='3d')\n",
        "\n",
        "    # Plotear fragmentos\n",
        "    ax.scatter(coords_3d[:-1, 0], coords_3d[:-1, 1], coords_3d[:-1, 2],\n",
        "               c='blue', alpha=0.6, s=50, label='Fragmentos')\n",
        "\n",
        "    # Plotear query\n",
        "    ax.scatter(coords_3d[-1, 0], coords_3d[-1, 1], coords_3d[-1, 2],\n",
        "               c='red', s=200, marker='*', label='Query')\n",
        "\n",
        "    ax.set_xlabel(f'PC1 ({pca.explained_variance_ratio_[0]:.2%} var)')\n",
        "    ax.set_ylabel(f'PC2 ({pca.explained_variance_ratio_[1]:.2%} var)')\n",
        "    ax.set_zlabel(f'PC3 ({pca.explained_variance_ratio_[2]:.2%} var)')\n",
        "    ax.legend()\n",
        "    ax.set_title('Visualización 3D de Embeddings TF-IDF')\n",
        "\n",
        "    plt.tight_layout()\n",
        "    plt.show()\n",
        "\n",
        "    print(f\"Varianza explicada total: {sum(pca.explained_variance_ratio_):.2%}\")"
      ],
      "metadata": {
        "id": "8nIRrt3tQfsP"
      },
      "execution_count": 15,
      "outputs": []
    },
    {
      "cell_type": "code",
      "source": [
        "visualizar_embeddings_3d(X_bloques, bloques_de_3, \"How to score high using Tailors?\", vectorizador_bloques)"
      ],
      "metadata": {
        "colab": {
          "base_uri": "https://localhost:8080/",
          "height": 824
        },
        "id": "KVI14KWbeJWs",
        "outputId": "8ec6edb0-f671-465b-f7a2-e8a4148793b2"
      },
      "execution_count": 16,
      "outputs": [
        {
          "output_type": "display_data",
          "data": {
            "text/plain": [
              "<Figure size 1200x800 with 1 Axes>"
            ],
            "image/png": "[encoded data removed]"
          },
          "metadata": {}
        },
        {
          "output_type": "stream",
          "name": "stdout",
          "text": [
            "Varianza explicada total: 7.99%\n"
          ]
        }
      ]
    },
    {
      "cell_type": "markdown",
      "source": [
        "## Ejercicio 3"
      ],
      "metadata": {
        "id": "PGMM6NHkGffq"
      }
    },
    {
      "cell_type": "code",
      "source": [
        "# Instalo las librerías necesarias\n",
        "!pip install -q spacy\n",
        "!python -m spacy download en_core_web_sm\n",
        "\n",
        "import spacy\n",
        "from collections import Counter\n",
        "\n",
        "# Cargo el modelo de spaCy\n",
        "nlp = spacy.load(\"en_core_web_sm\")"
      ],
      "metadata": {
        "colab": {
          "base_uri": "https://localhost:8080/"
        },
        "id": "mF647dplHC7z",
        "outputId": "6e6682ab-b76a-4f1f-b10d-621f69fb96df"
      },
      "execution_count": 18,
      "outputs": [
        {
          "output_type": "stream",
          "name": "stdout",
          "text": [
            "Collecting en-core-web-sm==3.8.0\n",
            "  Downloading https://github.com/explosion/spacy-models/releases/download/en_core_web_sm-3.8.0/en_core_web_sm-3.8.0-py3-none-any.whl (12.8 MB)\n",
            "\u001b[2K     \u001b[90m━━━━━━━━━━━━━━━━━━━━━━━━━━━━━━━━━━━━━━━━\u001b[0m \u001b[32m12.8/12.8 MB\u001b[0m \u001b[31m34.9 MB/s\u001b[0m eta \u001b[36m0:00:00\u001b[0m\n",
            "\u001b[?25h\u001b[38;5;2m✔ Download and installation successful\u001b[0m\n",
            "You can now load the package via spacy.load('en_core_web_sm')\n",
            "\u001b[38;5;3m⚠ Restart to reload dependencies\u001b[0m\n",
            "If you are in a Jupyter or Colab notebook, you may need to restart Python in\n",
            "order to load all the package's dependencies. You can do this by selecting the\n",
            "'Restart kernel' or 'Restart runtime' option.\n"
          ]
        }
      ]
    },
    {
      "cell_type": "markdown",
      "source": [
        "### Definicion de funciones"
      ],
      "metadata": {
        "id": "B_XWNc6EHTKB"
      }
    },
    {
      "cell_type": "markdown",
      "source": [
        "#### Extraer sustantivos y entidades"
      ],
      "metadata": {
        "id": "vVmPRkUbITmr"
      }
    },
    {
      "cell_type": "code",
      "source": [
        "def extraer_sustantivos_y_entidades(texto):\n",
        "    \"\"\"Extrae sustantivos (POS) y entidades nombradas (NER)\"\"\"\n",
        "    doc = nlp(texto)\n",
        "\n",
        "    # Extraigo los sustantivos\n",
        "    sustantivos = [token.text.lower() for token in doc\n",
        "                   if token.pos_ == \"NOUN\" and not token.is_stop and token.is_alpha]\n",
        "\n",
        "    # Extraigo las entidades nombradas\n",
        "    entidades = [(ent.text, ent.label_) for ent in doc.ents]\n",
        "\n",
        "    return sustantivos, entidades\n"
      ],
      "metadata": {
        "id": "0gM1NVE_HZY-"
      },
      "execution_count": 19,
      "outputs": []
    },
    {
      "cell_type": "markdown",
      "source": [
        "#### Procesar corpus"
      ],
      "metadata": {
        "id": "FeRTMKNRIfvn"
      }
    },
    {
      "cell_type": "code",
      "source": [
        "def procesar_corpus_con_pos_ner():\n",
        "    \"\"\"Procesa todos los textos extrayendo sustantivos y entidades\"\"\"\n",
        "\n",
        "    # Cargar y procesar todos los textos de información\n",
        "    import os\n",
        "    textos = {}\n",
        "\n",
        "    info_dir = \"/content/Datos/Información/\"\n",
        "    for archivo in os.listdir(info_dir):\n",
        "        if archivo.endswith('.txt'):\n",
        "            with open(os.path.join(info_dir, archivo), 'r', encoding='utf-8') as f:\n",
        "                textos[archivo] = f.read()\n",
        "\n",
        "    # Procesar cada texto\n",
        "    resultados = {}\n",
        "    for nombre, texto in textos.items():\n",
        "        print(f\"Procesando {nombre}...\")\n",
        "        sustantivos, entidades = extraer_sustantivos_y_entidades(texto)\n",
        "        resultados[nombre] = {\n",
        "            'sustantivos': sustantivos,\n",
        "            'entidades': entidades,\n",
        "            'texto_original': texto\n",
        "        }\n",
        "\n",
        "    return resultados"
      ],
      "metadata": {
        "id": "bfUc1x5IHdS9"
      },
      "execution_count": 20,
      "outputs": []
    },
    {
      "cell_type": "markdown",
      "source": [
        "#### Busqueda por sustantivos"
      ],
      "metadata": {
        "id": "xugEXFTeIrRn"
      }
    },
    {
      "cell_type": "code",
      "source": [
        "def busqueda_por_sustantivos(query, resultados_pos_ner, top_n=3):\n",
        "    \"\"\"Búsqueda basada en sustantivos extraídos\"\"\"\n",
        "\n",
        "    # Extraigo los sustantivos de la query\n",
        "    sustantivos_query, _ = extraer_sustantivos_y_entidades(query)\n",
        "\n",
        "    if not sustantivos_query:\n",
        "        print(\"No se encontraron sustantivos en la query\")\n",
        "        return\n",
        "\n",
        "    # Calculo similitud basada en sustantivos comunes\n",
        "    scores = {}\n",
        "    for archivo, datos in resultados_pos_ner.items():\n",
        "        sustantivos_doc = datos['sustantivos']\n",
        "\n",
        "        # Intersección de sustantivos\n",
        "        comunes = set(sustantivos_query) & set(sustantivos_doc)\n",
        "\n",
        "        # Score basado en Jaccard\n",
        "        union = set(sustantivos_query) | set(sustantivos_doc)\n",
        "        score = len(comunes) / len(union) if union else 0\n",
        "\n",
        "        scores[archivo] = score\n",
        "\n",
        "    # Mostrar top resultados\n",
        "    print(f\"Búsqueda por sustantivos: '{query}'\")\n",
        "    print(\"Sustantivos en query:\", sustantivos_query)\n",
        "    print(\"=\" * 50)\n",
        "\n",
        "    for archivo, score in sorted(scores.items(), key=lambda x: x[1], reverse=True)[:top_n]:\n",
        "        print(f\"\\n {archivo} - Score: {score:.3f}\")\n",
        "        # Mostrar sustantivos comunes\n",
        "        comunes = set(sustantivos_query) & set(resultados_pos_ner[archivo]['sustantivos'])\n",
        "        print(f\"Sustantivos comunes: {list(comunes)}\")\n",
        "        print(f\"Texto: {resultados_pos_ner[archivo]['texto_original'][:200]}...\")\n"
      ],
      "metadata": {
        "id": "_CJaW9BQHveD"
      },
      "execution_count": 21,
      "outputs": []
    },
    {
      "cell_type": "markdown",
      "source": [
        "### Resultado"
      ],
      "metadata": {
        "id": "S9kcEkq6fRaD"
      }
    },
    {
      "cell_type": "code",
      "source": [
        "resultados = procesar_corpus_con_pos_ner()\n",
        "busqueda_por_sustantivos(\"strategy buildings\", resultados)"
      ],
      "metadata": {
        "colab": {
          "base_uri": "https://localhost:8080/"
        },
        "id": "6NLeKmgVeXoH",
        "outputId": "dd034bde-e7e2-4a8f-8325-20fd31278b7c"
      },
      "execution_count": 22,
      "outputs": [
        {
          "output_type": "stream",
          "name": "stdout",
          "text": [
            "Procesando texto_foros_strategy.txt...\n",
            "Procesando video1.txt...\n",
            "Procesando video2.txt...\n",
            "Procesando texto_misutmeeple_contenido.txt...\n",
            "Procesando texto_foros_variants.txt...\n",
            "Procesando video3.txt...\n",
            "Procesando manual.txt...\n",
            "Procesando texto_misutmeeple_introduccion.txt...\n",
            "Procesando texto_misutmeeple_opinion.txt...\n",
            "Procesando review_bgg.txt...\n",
            "Procesando review_externa.txt...\n",
            "Procesando video4.txt...\n",
            "Procesando descripcion_juego.txt...\n",
            "Procesando texto_misutmeeple_mecanica.txt...\n",
            "Búsqueda por sustantivos: 'strategy buildings'\n",
            "Sustantivos en query: ['strategy', 'buildings']\n",
            "==================================================\n",
            "\n",
            " descripcion_juego.txt - Score: 0.034\n",
            "Sustantivos comunes: ['buildings']\n",
            "Texto: You are the mayor of a tiny town in the forest in which the smaller creatures of the woods have created a civilization hidden away from predators. This new land is small and the resources are scarce, ...\n",
            "\n",
            " texto_foros_strategy.txt - Score: 0.008\n",
            "Sustantivos comunes: ['buildings', 'strategy']\n",
            "Texto: That's a really dull selection! I'd probably (depending on my monument) very dully focus on cottages. Couple of farms and some chapels. It wouldn't be a high scoring game\n",
            "I'd go monument first, then a...\n",
            "\n",
            " video2.txt - Score: 0.007\n",
            "Sustantivos comunes: ['buildings']\n",
            "Texto: and now it's time for another dice tower review with tom vassell [Music] hi folks i'm tom vassell today we're taking a look at tiny towns aeg has really progressed as a company it's really interesting...\n"
          ]
        }
      ]
    },
    {
      "cell_type": "markdown",
      "source": [
        "## Ejercicio 4"
      ],
      "metadata": {
        "id": "SU70VpiOINp9"
      }
    },
    {
      "cell_type": "code",
      "source": [
        "# Instalo las librerías necesarias\n",
        "!pip install -q langdetect\n",
        "\n",
        "from langdetect import detect, detect_langs\n",
        "import pandas as pd"
      ],
      "metadata": {
        "id": "oFIN-V4qJCU7",
        "colab": {
          "base_uri": "https://localhost:8080/"
        },
        "outputId": "40306824-8677-4122-d978-5d4bdcd8c589"
      },
      "execution_count": 23,
      "outputs": [
        {
          "output_type": "stream",
          "name": "stdout",
          "text": [
            "\u001b[?25l     \u001b[90m━━━━━━━━━━━━━━━━━━━━━━━━━━━━━━━━━━━━━━━━\u001b[0m \u001b[32m0.0/981.5 kB\u001b[0m \u001b[31m?\u001b[0m eta \u001b[36m-:--:--\u001b[0m\r\u001b[2K     \u001b[91m━━━━━━━━━━━━━━━━\u001b[0m\u001b[91m╸\u001b[0m\u001b[90m━━━━━━━━━━━━━━━━━━━━━\u001b[0m \u001b[32m430.1/981.5 kB\u001b[0m \u001b[31m12.1 MB/s\u001b[0m eta \u001b[36m0:00:01\u001b[0m\r\u001b[2K     \u001b[90m━━━━━━━━━━━━━━━━━━━━━━━━━━━━━━━━━━━━━━\u001b[0m \u001b[32m981.5/981.5 kB\u001b[0m \u001b[31m16.6 MB/s\u001b[0m eta \u001b[36m0:00:00\u001b[0m\n",
            "\u001b[?25h  Preparing metadata (setup.py) ... \u001b[?25l\u001b[?25hdone\n",
            "  Building wheel for langdetect (setup.py) ... \u001b[?25l\u001b[?25hdone\n"
          ]
        }
      ]
    },
    {
      "cell_type": "markdown",
      "source": [
        "### Funcion para detectar idiomas"
      ],
      "metadata": {
        "id": "GV5ZnkC1Jwnh"
      }
    },
    {
      "cell_type": "code",
      "source": [
        "def detectar_idiomas_archivos():\n",
        "    \"\"\"Detecta el idioma de cada archivo y crea un DataFrame\"\"\"\n",
        "\n",
        "    resultados = []\n",
        "\n",
        "    # Procesar archivos de todas las carpetas\n",
        "    for carpeta in ['Información', 'Estadísticas', 'Relaciones']:\n",
        "        carpeta_path = f\"/content/Datos/{carpeta}/\"\n",
        "\n",
        "        for archivo in os.listdir(carpeta_path):\n",
        "            filepath = os.path.join(carpeta_path, archivo)\n",
        "\n",
        "            try:\n",
        "                if archivo.endswith('.txt'):\n",
        "                    with open(filepath, 'r', encoding='utf-8') as f:\n",
        "                        contenido = f.read()\n",
        "\n",
        "                    # Detectar idioma\n",
        "                    idioma = detect(contenido)\n",
        "                    confianza = detect_langs(contenido)[0].prob\n",
        "\n",
        "                elif archivo.endswith('.csv'):\n",
        "                    # Para CSV, analizar columnas de texto\n",
        "                    df = pd.read_csv(filepath)\n",
        "\n",
        "                    # Encontrar columnas de texto\n",
        "                    texto_cols = df.select_dtypes(include=['object']).columns\n",
        "\n",
        "                    if len(texto_cols) > 0:\n",
        "                        # Concatenar texto de las primeras filas\n",
        "                        texto_muestra = ' '.join(df[texto_cols[0]].dropna().head(10).astype(str))\n",
        "                        idioma = detect(texto_muestra)\n",
        "                        confianza = detect_langs(texto_muestra)[0].prob\n",
        "                    else:\n",
        "                        idioma = 'unknown'\n",
        "                        confianza = 0.0\n",
        "\n",
        "                resultados.append({\n",
        "                    'archivo': archivo,\n",
        "                    'carpeta': carpeta,\n",
        "                    'idioma': idioma,\n",
        "                    'confianza': confianza,\n",
        "                    'ruta': filepath\n",
        "                })\n",
        "\n",
        "            except Exception as e:\n",
        "                resultados.append({\n",
        "                    'archivo': archivo,\n",
        "                    'carpeta': carpeta,\n",
        "                    'idioma': 'error',\n",
        "                    'confianza': 0.0,\n",
        "                    'ruta': filepath\n",
        "                })\n",
        "\n",
        "    df_idiomas = pd.DataFrame(resultados)\n",
        "    return df_idiomas"
      ],
      "metadata": {
        "id": "Lq_M4YauJaPv"
      },
      "execution_count": 24,
      "outputs": []
    },
    {
      "cell_type": "code",
      "source": [
        "df_idiomas = detectar_idiomas_archivos()\n",
        "print(df_idiomas)"
      ],
      "metadata": {
        "colab": {
          "base_uri": "https://localhost:8080/"
        },
        "id": "sbE01bL4fkwM",
        "outputId": "76490f34-13d0-44fe-f06a-782415c0efd4"
      },
      "execution_count": 25,
      "outputs": [
        {
          "output_type": "stream",
          "name": "stdout",
          "text": [
            "                               archivo       carpeta idioma  confianza  \\\n",
            "0             texto_foros_strategy.txt   Información     en   0.999998   \n",
            "1                           video1.txt   Información     nl   0.999995   \n",
            "2                           video2.txt   Información     en   0.999998   \n",
            "3      texto_misutmeeple_contenido.txt   Información     es   0.999995   \n",
            "4             texto_foros_variants.txt   Información     en   0.999998   \n",
            "5                           video3.txt   Información     en   0.999996   \n",
            "6                           manual.txt   Información     en   0.999998   \n",
            "7   texto_misutmeeple_introduccion.txt   Información     es   0.999997   \n",
            "8        texto_misutmeeple_opinion.txt   Información     es   0.999995   \n",
            "9                       review_bgg.txt   Información     es   0.999996   \n",
            "10                    df_foros_bgg.csv   Información     af   0.857140   \n",
            "11                  review_externa.txt   Información     es   0.999997   \n",
            "12                          video4.txt   Información     es   0.999998   \n",
            "13               descripcion_juego.txt   Información     en   0.999997   \n",
            "14      texto_misutmeeple_mecanica.txt   Información     es   0.999995   \n",
            "15              reseñas_Tiny_Towns.csv  Estadísticas     en   0.999997   \n",
            "16                  boardgame_data.csv  Estadísticas     en   0.999996   \n",
            "17                         credits.csv  Estadísticas     en   0.857138   \n",
            "18             creditos_relaciones.csv    Relaciones     en   0.857140   \n",
            "\n",
            "                                                 ruta  \n",
            "0   /content/Datos/Información/texto_foros_strateg...  \n",
            "1               /content/Datos/Información/video1.txt  \n",
            "2               /content/Datos/Información/video2.txt  \n",
            "3   /content/Datos/Información/texto_misutmeeple_c...  \n",
            "4   /content/Datos/Información/texto_foros_variant...  \n",
            "5               /content/Datos/Información/video3.txt  \n",
            "6               /content/Datos/Información/manual.txt  \n",
            "7   /content/Datos/Información/texto_misutmeeple_i...  \n",
            "8   /content/Datos/Información/texto_misutmeeple_o...  \n",
            "9           /content/Datos/Información/review_bgg.txt  \n",
            "10        /content/Datos/Información/df_foros_bgg.csv  \n",
            "11      /content/Datos/Información/review_externa.txt  \n",
            "12              /content/Datos/Información/video4.txt  \n",
            "13   /content/Datos/Información/descripcion_juego.txt  \n",
            "14  /content/Datos/Información/texto_misutmeeple_m...  \n",
            "15  /content/Datos/Estadísticas/reseñas_Tiny_Towns...  \n",
            "16     /content/Datos/Estadísticas/boardgame_data.csv  \n",
            "17            /content/Datos/Estadísticas/credits.csv  \n",
            "18  /content/Datos/Relaciones/creditos_relaciones.csv  \n"
          ]
        }
      ]
    },
    {
      "cell_type": "markdown",
      "source": [
        "## Ejercicio 5"
      ],
      "metadata": {
        "id": "FQs6h3o8Jr7Z"
      }
    },
    {
      "cell_type": "code",
      "source": [
        "# Instalo las librerías necesarias\n",
        "!pip install -q transformers torch\n",
        "\n",
        "from transformers import pipeline"
      ],
      "metadata": {
        "colab": {
          "base_uri": "https://localhost:8080/"
        },
        "id": "-U7P1c5lKHlN",
        "outputId": "d1bbe319-05f0-4bd0-d746-8904c1b0dbfd"
      },
      "execution_count": 26,
      "outputs": [
        {
          "output_type": "stream",
          "name": "stdout",
          "text": [
            "\u001b[2K   \u001b[90m━━━━━━━━━━━━━━━━━━━━━━━━━━━━━━━━━━━━━━━━\u001b[0m \u001b[32m363.4/363.4 MB\u001b[0m \u001b[31m3.8 MB/s\u001b[0m eta \u001b[36m0:00:00\u001b[0m\n",
            "\u001b[2K   \u001b[90m━━━━━━━━━━━━━━━━━━━━━━━━━━━━━━━━━━━━━━━━\u001b[0m \u001b[32m13.8/13.8 MB\u001b[0m \u001b[31m40.3 MB/s\u001b[0m eta \u001b[36m0:00:00\u001b[0m\n",
            "\u001b[2K   \u001b[90m━━━━━━━━━━━━━━━━━━━━━━━━━━━━━━━━━━━━━━━━\u001b[0m \u001b[32m24.6/24.6 MB\u001b[0m \u001b[31m42.3 MB/s\u001b[0m eta \u001b[36m0:00:00\u001b[0m\n",
            "\u001b[2K   \u001b[90m━━━━━━━━━━━━━━━━━━━━━━━━━━━━━━━━━━━━━━━━\u001b[0m \u001b[32m883.7/883.7 kB\u001b[0m \u001b[31m30.1 MB/s\u001b[0m eta \u001b[36m0:00:00\u001b[0m\n",
            "\u001b[2K   \u001b[90m━━━━━━━━━━━━━━━━━━━━━━━━━━━━━━━━━━━━━━━━\u001b[0m \u001b[32m664.8/664.8 MB\u001b[0m \u001b[31m2.9 MB/s\u001b[0m eta \u001b[36m0:00:00\u001b[0m\n",
            "\u001b[2K   \u001b[90m━━━━━━━━━━━━━━━━━━━━━━━━━━━━━━━━━━━━━━━━\u001b[0m \u001b[32m211.5/211.5 MB\u001b[0m \u001b[31m8.5 MB/s\u001b[0m eta \u001b[36m0:00:00\u001b[0m\n",
            "\u001b[2K   \u001b[90m━━━━━━━━━━━━━━━━━━━━━━━━━━━━━━━━━━━━━━━━\u001b[0m \u001b[32m56.3/56.3 MB\u001b[0m \u001b[31m14.2 MB/s\u001b[0m eta \u001b[36m0:00:00\u001b[0m\n",
            "\u001b[2K   \u001b[90m━━━━━━━━━━━━━━━━━━━━━━━━━━━━━━━━━━━━━━━━\u001b[0m \u001b[32m127.9/127.9 MB\u001b[0m \u001b[31m7.9 MB/s\u001b[0m eta \u001b[36m0:00:00\u001b[0m\n",
            "\u001b[2K   \u001b[90m━━━━━━━━━━━━━━━━━━━━━━━━━━━━━━━━━━━━━━━━\u001b[0m \u001b[32m207.5/207.5 MB\u001b[0m \u001b[31m6.7 MB/s\u001b[0m eta \u001b[36m0:00:00\u001b[0m\n",
            "\u001b[2K   \u001b[90m━━━━━━━━━━━━━━━━━━━━━━━━━━━━━━━━━━━━━━━━\u001b[0m \u001b[32m21.1/21.1 MB\u001b[0m \u001b[31m77.1 MB/s\u001b[0m eta \u001b[36m0:00:00\u001b[0m\n",
            "\u001b[?25h"
          ]
        }
      ]
    },
    {
      "cell_type": "markdown",
      "source": [
        "### Funcion de analizar sentimientos"
      ],
      "metadata": {
        "id": "utddZHqjKPxM"
      }
    },
    {
      "cell_type": "code",
      "source": [
        "def analizar_sentimientos_resenas():\n",
        "    \"\"\"Analiza sentimientos de las reseñas usando modelos preentrenados\"\"\"\n",
        "\n",
        "    # Cargo los archivos\n",
        "\n",
        "    analizador = pipeline(\"sentiment-analysis\",\n",
        "                         model=\"cardiffnlp/twitter-roberta-base-sentiment-latest\")\n",
        "\n",
        "    df_resenas = pd.read_csv(\"/content/Datos/Estadísticas/reseñas_Tiny_Towns.csv\")\n",
        "\n",
        "    print(f\"Analizando {len(df_resenas)} reseñas...\")\n",
        "\n",
        "    # Analizar sentimientos\n",
        "    sentimientos = []\n",
        "    for idx, row in df_resenas.iterrows():\n",
        "        try:\n",
        "            # Tomar una muestra del texto si es muy largo\n",
        "            texto = str(row.iloc[0])[:500] if len(str(row.iloc[0])) > 500 else str(row.iloc[0])\n",
        "\n",
        "            resultado = analizador(texto)\n",
        "            sentimientos.append({\n",
        "                'indice': idx,\n",
        "                'sentimiento': resultado[0]['label'],\n",
        "                'confianza': resultado[0]['score'],\n",
        "                'texto': texto\n",
        "            })\n",
        "        except:\n",
        "            sentimientos.append({\n",
        "                'indice': idx,\n",
        "                'sentimiento': 'UNKNOWN',\n",
        "                'confianza': 0.0,\n",
        "                'texto': str(row.iloc[0])\n",
        "            })\n",
        "\n",
        "    df_sentimientos = pd.DataFrame(sentimientos)\n",
        "    return df_sentimientos"
      ],
      "metadata": {
        "id": "ijz-gzITKYIk"
      },
      "execution_count": 27,
      "outputs": []
    },
    {
      "cell_type": "markdown",
      "source": [
        "### Funcion de busqueda"
      ],
      "metadata": {
        "id": "3jo9gbphKgza"
      }
    },
    {
      "cell_type": "code",
      "source": [
        "def sistema_busqueda_con_filtro_sentimiento(df_sentimientos, query, filtro_sentimiento=None):\n",
        "    \"\"\"Sistema de búsqueda que permite filtrar por sentimiento\"\"\"\n",
        "\n",
        "    # Filtrar por sentimiento si se especifica\n",
        "    if filtro_sentimiento:\n",
        "        df_filtrado = df_sentimientos[df_sentimientos['sentimiento'] == filtro_sentimiento]\n",
        "    else:\n",
        "        df_filtrado = df_sentimientos\n",
        "\n",
        "    if len(df_filtrado) == 0:\n",
        "        print(f\"No se encontraron reseñas con sentimiento {filtro_sentimiento}\")\n",
        "        return\n",
        "\n",
        "    # Vectorizar textos filtrados\n",
        "    vectorizador = TfidfVectorizer(max_features=1000, stop_words='english')\n",
        "    textos = df_filtrado['texto'].tolist()\n",
        "\n",
        "    if len(textos) == 0:\n",
        "        print(\"No hay textos para analizar\")\n",
        "        return\n",
        "\n",
        "    X = vectorizador.fit_transform(textos)\n",
        "\n",
        "    # Buscar similitud con la query\n",
        "    query_vec = vectorizador.transform([query])\n",
        "    similitudes = cosine_similarity(query_vec, X).flatten()\n",
        "\n",
        "    # Mostrar resultados\n",
        "    indices_top = similitudes.argsort()[::-1][:5]\n",
        "\n",
        "    print(f\"Búsqueda: '{query}'\")\n",
        "    if filtro_sentimiento:\n",
        "        print(f\"Filtrado por sentimiento: {filtro_sentimiento}\")\n",
        "    print(\"=\" * 50)\n",
        "\n",
        "    for i, idx in enumerate(indices_top):\n",
        "        fila = df_filtrado.iloc[idx]\n",
        "        print(f\"\\n{i+1}. Similitud: {similitudes[idx]:.3f}\")\n",
        "        print(f\"   Sentimiento: {fila['sentimiento']} ({fila['confianza']:.3f})\")\n",
        "        print(f\"   Texto: {fila['texto'][:200]}...\")"
      ],
      "metadata": {
        "id": "ZG9ww8o7KzR-"
      },
      "execution_count": 28,
      "outputs": []
    },
    {
      "cell_type": "code",
      "source": [
        "df_sentimientos = analizar_sentimientos_resenas()\n",
        "sistema_busqueda_con_filtro_sentimiento(df_sentimientos, \"great game\", \"POSITIVE\")"
      ],
      "metadata": {
        "colab": {
          "base_uri": "https://localhost:8080/",
          "height": 507,
          "referenced_widgets": [
            "5971e7a6c1bf4b779993c452ba4978cd",
            "93adff30420147979c4d6220b39de028",
            "4c24e33f63f6478484b347748a09871e",
            "5390f6b0d7324eff91e04a40348a4ead",
            "d82387f5cdf943228fa83808dde98b7d",
            "d63f22783d1448ecadbbe45ea552c69b",
            "6145ca528bdd4b249fab6e2c5e92729a",
            "db8e8ae938c84ca1bb009738f78df72d",
            "c36b15b3aa3f49ef828800b6c875a14c",
            "bb5e01b8028d4c3ba32efffd87d6aac3",
            "d39a54f21a3148e4afc5b1ca22423a2c",
            "87969e3ff13c4e16a923fca9400946f4",
            "ae7c08c6b8f34e1b81af2e779aa49dee",
            "58bd1be2d52c4958972dc13f93950cd4",
            "369a6df9191a459388690ca9a80c6cc3",
            "c2db45dd666a4d00a60db95a37651f8d",
            "741850f6a9d9444988e58559f6360dc6",
            "0bfdaaf542b14676a312678f318e5b9d",
            "66a45d8616694ae98a70ea5bf3ff6299",
            "d13bad68e576481a9e29e0e9d0dfd716",
            "26a6b8e55f6e4fc8a434c1196485f8b0",
            "2e8faa522f7e47a6b6d9480af950441b",
            "7e41e0bfc7324d0e83934c11183f6d80",
            "016ec63982934cd38023e83696bf4885",
            "3885c0ccbdc343d1a23b85a3a042f606",
            "f9918762508a42c6a1cb3aad926c33a2",
            "cc91a41d9cfa4eb78c96636b95dd287c",
            "19ef11d6b4f64967835f5311a2692d38",
            "7de8e6c9b51e41a19435613ed1dd8839",
            "aaa92c76315d443388574b83f0fe5d05",
            "ada1592bb6c643559c5f3567ebc19cdd",
            "dc6411346b56494eb212fc12c9fd07da",
            "75dbb234157c4b8da827ed7932e76e45",
            "b1365130c92c4b76aa1851ff028cb496",
            "967a764e402d49eb9ea4cd7125246d80",
            "4efac6ec939c4fc6b763cac7d237aa94",
            "a269e5fba0d945b49f7c6f6e6431b1b2",
            "b4860c177dbc4a97af7d2db7cfe79035",
            "3c55204734004af5b29e14f9573100a3",
            "786f4f0ccc4d46bb80953ba56220e86f",
            "faf09e4dfa944913aea5f4e3dc299eee",
            "dd212fee4b9548349edfc47a3412e0ea",
            "bb86869b8563485db8e0834cf9971c0d",
            "fa683a4c23c44a828ab85defee237c4e",
            "bb50971a8a68422b83415103f171556a",
            "4abfc473b0a641b59b660aa641a76bd1",
            "f61d495b44d443ff9c15e4931fba5719",
            "2fe15b288e914e3e8d235370f168f9b9",
            "4559b45dafcc4ded91cc05be3945ad13",
            "723e2499a5b544099bb0ee06182095bf",
            "adf56160dc97440fbed55b6bb4e72329",
            "c07c1b575cf243b98650a1d91419d7c7",
            "5aae14cdd09a4c90b239a0993fe3ea97",
            "555754d390394fefaa89daa64bfb15d6",
            "81b869579f3042a9a297a9c605a520ce",
            "570c6179d48847efb89f50bfa691f729",
            "3ed82054c0b348648da642ecbe44fdd4",
            "532c333aa478427c9d5c541c3f37e3fa",
            "0cc70418258f477c8a162d09b42495c2",
            "8650d623755e42d7908783e426456952",
            "899a104668af45b3ba4bff9e1f7c7dce",
            "2bd815535de3404587a35028d274df57",
            "819cff27de604f10b525628eca056793",
            "eb97ba4bc3d346ffb28a8e40c052fca8",
            "400f6f478a3d46269740f49c3328448c",
            "a744436f44514a83898dc024d17be947"
          ]
        },
        "id": "0unZb0AfgnQ7",
        "outputId": "4fbda9f6-f121-440d-ab75-ab59e3b30f88"
      },
      "execution_count": 29,
      "outputs": [
        {
          "output_type": "stream",
          "name": "stderr",
          "text": [
            "/usr/local/lib/python3.11/dist-packages/huggingface_hub/utils/_auth.py:94: UserWarning: \n",
            "The secret `HF_TOKEN` does not exist in your Colab secrets.\n",
            "To authenticate with the Hugging Face Hub, create a token in your settings tab (https://huggingface.co/settings/tokens), set it as secret in your Google Colab and restart your session.\n",
            "You will be able to reuse this secret in all of your notebooks.\n",
            "Please note that authentication is recommended but still optional to access public models or datasets.\n",
            "  warnings.warn(\n"
          ]
        },
        {
          "output_type": "display_data",
          "data": {
            "text/plain": [
              "config.json:   0%|          | 0.00/929 [00:00<?, ?B/s]"
            ],
            "application/vnd.jupyter.widget-view+json": {
              "version_major": 2,
              "version_minor": 0,
              "model_id": "5971e7a6c1bf4b779993c452ba4978cd"
            }
          },
          "metadata": {}
        },
        {
          "output_type": "stream",
          "name": "stderr",
          "text": [
            "Xet Storage is enabled for this repo, but the 'hf_xet' package is not installed. Falling back to regular HTTP download. For better performance, install the package with: `pip install huggingface_hub[hf_xet]` or `pip install hf_xet`\n",
            "WARNING:huggingface_hub.file_download:Xet Storage is enabled for this repo, but the 'hf_xet' package is not installed. Falling back to regular HTTP download. For better performance, install the package with: `pip install huggingface_hub[hf_xet]` or `pip install hf_xet`\n"
          ]
        },
        {
          "output_type": "display_data",
          "data": {
            "text/plain": [
              "pytorch_model.bin:   0%|          | 0.00/501M [00:00<?, ?B/s]"
            ],
            "application/vnd.jupyter.widget-view+json": {
              "version_major": 2,
              "version_minor": 0,
              "model_id": "87969e3ff13c4e16a923fca9400946f4"
            }
          },
          "metadata": {}
        },
        {
          "output_type": "stream",
          "name": "stderr",
          "text": [
            "Some weights of the model checkpoint at cardiffnlp/twitter-roberta-base-sentiment-latest were not used when initializing RobertaForSequenceClassification: ['roberta.pooler.dense.bias', 'roberta.pooler.dense.weight']\n",
            "- This IS expected if you are initializing RobertaForSequenceClassification from the checkpoint of a model trained on another task or with another architecture (e.g. initializing a BertForSequenceClassification model from a BertForPreTraining model).\n",
            "- This IS NOT expected if you are initializing RobertaForSequenceClassification from the checkpoint of a model that you expect to be exactly identical (initializing a BertForSequenceClassification model from a BertForSequenceClassification model).\n",
            "Xet Storage is enabled for this repo, but the 'hf_xet' package is not installed. Falling back to regular HTTP download. For better performance, install the package with: `pip install huggingface_hub[hf_xet]` or `pip install hf_xet`\n",
            "WARNING:huggingface_hub.file_download:Xet Storage is enabled for this repo, but the 'hf_xet' package is not installed. Falling back to regular HTTP download. For better performance, install the package with: `pip install huggingface_hub[hf_xet]` or `pip install hf_xet`\n"
          ]
        },
        {
          "output_type": "display_data",
          "data": {
            "text/plain": [
              "vocab.json:   0%|          | 0.00/899k [00:00<?, ?B/s]"
            ],
            "application/vnd.jupyter.widget-view+json": {
              "version_major": 2,
              "version_minor": 0,
              "model_id": "7e41e0bfc7324d0e83934c11183f6d80"
            }
          },
          "metadata": {}
        },
        {
          "output_type": "display_data",
          "data": {
            "text/plain": [
              "model.safetensors:   0%|          | 0.00/501M [00:00<?, ?B/s]"
            ],
            "application/vnd.jupyter.widget-view+json": {
              "version_major": 2,
              "version_minor": 0,
              "model_id": "b1365130c92c4b76aa1851ff028cb496"
            }
          },
          "metadata": {}
        },
        {
          "output_type": "display_data",
          "data": {
            "text/plain": [
              "merges.txt:   0%|          | 0.00/456k [00:00<?, ?B/s]"
            ],
            "application/vnd.jupyter.widget-view+json": {
              "version_major": 2,
              "version_minor": 0,
              "model_id": "bb50971a8a68422b83415103f171556a"
            }
          },
          "metadata": {}
        },
        {
          "output_type": "display_data",
          "data": {
            "text/plain": [
              "special_tokens_map.json:   0%|          | 0.00/239 [00:00<?, ?B/s]"
            ],
            "application/vnd.jupyter.widget-view+json": {
              "version_major": 2,
              "version_minor": 0,
              "model_id": "570c6179d48847efb89f50bfa691f729"
            }
          },
          "metadata": {}
        },
        {
          "output_type": "stream",
          "name": "stderr",
          "text": [
            "Device set to use cpu\n"
          ]
        },
        {
          "output_type": "stream",
          "name": "stdout",
          "text": [
            "Analizando 500 reseñas...\n",
            "No se encontraron reseñas con sentimiento POSITIVE\n"
          ]
        }
      ]
    },
    {
      "cell_type": "markdown",
      "source": [
        "## Ejercicio 6"
      ],
      "metadata": {
        "id": "7PP0wUVVLZWK"
      }
    },
    {
      "cell_type": "markdown",
      "source": [
        "### Funcion para gener consultas"
      ],
      "metadata": {
        "id": "ZnTwfqn5MLHz"
      }
    },
    {
      "cell_type": "code",
      "source": [
        "def generar_dataset_consultas():\n",
        "    \"\"\"Genera un dataset de más de 300 consultas categorizadas\"\"\"\n",
        "\n",
        "    consultas = []\n",
        "\n",
        "    # Consultas de INFORMACIÓN (sobre reglas, mecánicas, etc.)\n",
        "    consultas_info = [\n",
        "        \"¿Cómo se juega Tiny Towns?\",\n",
        "        \"¿Cuáles son las reglas básicas?\",\n",
        "        \"¿Qué hace cada tipo de edificio?\",\n",
        "        \"¿Cómo funcionan los monumentos?\",\n",
        "        \"¿Cuándo termina el juego?\",\n",
        "        \"¿Qué es una casa de campo?\",\n",
        "        \"¿Cómo se construyen los edificios?\",\n",
        "        \"¿Qué recursos necesito para cada edificio?\",\n",
        "        \"¿Cuáles son las fases del turno?\",\n",
        "        \"¿Cómo se colocan los recursos?\",\n",
        "        \"¿Qué hace el granero?\",\n",
        "        \"¿Cómo funcionan las capillas?\",\n",
        "        \"¿Qué es un pozo?\",\n",
        "        \"¿Cómo se usan las fábricas?\",\n",
        "        \"¿Qué hacen los sastres?\",\n",
        "        \"¿Cuándo puedo construir?\",\n",
        "        \"¿Cómo se alimentan los edificios?\",\n",
        "        \"¿Qué pasa si no puedo colocar un recurso?\",\n",
        "        \"¿Cómo se cuentan los puntos?\",\n",
        "        \"¿Qué significa cada símbolo?\",\n",
        "        # ... más consultas de información\n",
        "    ]\n",
        "\n",
        "    # Consultas de ESTADÍSTICAS (sobre puntuaciones, rankings, etc.)\n",
        "    consultas_stats = [\n",
        "        \"¿Cuál es la puntuación más alta registrada?\",\n",
        "        \"¿Qué edificio da más puntos?\",\n",
        "        \"¿Cuál es la puntuación promedio?\",\n",
        "        \"¿Qué estrategia tiene mejor ratio de victoria?\",\n",
        "        \"¿Cuántos puntos vale cada monumento?\",\n",
        "        \"¿Cuál es la diferencia de puntos típica?\",\n",
        "        \"¿Qué porcentaje de partidas terminan en empate?\",\n",
        "        \"¿Cuántos edificios se construyen en promedio?\",\n",
        "        \"¿Cuál es el tiempo promedio de partida?\",\n",
        "        \"¿Qué monumento se elige más frecuentemente?\",\n",
        "        \"¿Cuántos recursos se usan por partida?\",\n",
        "        \"¿Qué combinación de edificios da más puntos?\",\n",
        "        \"¿Cuál es la eficiencia por espacio de cada edificio?\",\n",
        "        \"¿Qué estrategia tiene mayor consistencia?\",\n",
        "        \"¿Cuántos jugadores prefieren cada estrategia?\",\n",
        "        # ... más consultas estadísticas\n",
        "    ]\n",
        "\n",
        "    # Consultas de RELACIONES (sobre interacciones, sinergias, etc.)\n",
        "    consultas_relaciones = [\n",
        "        \"¿Qué edificios trabajan bien juntos?\",\n",
        "        \"¿Cómo se relacionan las casas con otros edificios?\",\n",
        "        \"¿Qué monumentos combinan mejor?\",\n",
        "        \"¿Cuál es la sinergia entre sastres y otros edificios?\",\n",
        "        \"¿Qué edificios dependen de otros para funcionar?\",\n",
        "        \"¿Cómo interactúan los pozos con las casas?\",\n",
        "        \"¿Qué edificios bloquean a otros?\",\n",
        "        \"¿Cuáles son las mejores combinaciones?\",\n",
        "        \"¿Qué edificios compiten por los mismos recursos?\",\n",
        "        \"¿Cómo afectan los monumentos a la estrategia?\",\n",
        "        \"¿Qué edificios son complementarios?\",\n",
        "        \"¿Cuál es la cadena de dependencias?\",\n",
        "        \"¿Qué edificios inhiben estrategias?\",\n",
        "        \"¿Cómo se conectan las diferentes estrategias?\",\n",
        "        \"¿Qué patrones de construcción son más efectivos?\",\n",
        "        # ... más consultas de relaciones\n",
        "    ]\n",
        "\n",
        "    # Crear dataset completo (vamos a generar más automáticamente)\n",
        "    import random\n",
        "\n",
        "    # Plantillas para generar más consultas\n",
        "    plantillas_info = [\n",
        "        \"¿Cómo funciona {edificio}?\",\n",
        "        \"¿Qué hace {edificio}?\",\n",
        "        \"¿Cuándo se puede usar {edificio}?\",\n",
        "        \"¿Qué recursos necesita {edificio}?\",\n",
        "        \"¿Dónde se coloca {edificio}?\"\n",
        "    ]\n",
        "\n",
        "    plantillas_stats = [\n",
        "        \"¿Cuántos puntos da {edificio}?\",\n",
        "        \"¿Cuál es el promedio de {edificio}?\",\n",
        "        \"¿Qué tan frecuente es {edificio}?\",\n",
        "        \"¿Cuál es la eficiencia de {edificio}?\",\n",
        "        \"¿Qué ranking tiene {edificio}?\"\n",
        "    ]\n",
        "\n",
        "    plantillas_relaciones = [\n",
        "        \"¿Cómo interactúa {edificio1} con {edificio2}?\",\n",
        "        \"¿Qué relación hay entre {edificio1} y {edificio2}?\",\n",
        "        \"¿Se complementan {edificio1} y {edificio2}?\",\n",
        "        \"¿Compiten {edificio1} y {edificio2}?\",\n",
        "        \"¿Cuál es mejor, {edificio1} o {edificio2}?\"\n",
        "    ]\n",
        "\n",
        "    edificios = [\"cottage\", \"well\", \"farm\", \"tailor\", \"chapel\", \"granary\", \"factory\", \"monument\"]\n",
        "\n",
        "    # Generar más consultas usando plantillas\n",
        "    for plantilla in plantillas_info:\n",
        "        for edificio in edificios:\n",
        "            consultas_info.append(plantilla.format(edificio=edificio))\n",
        "\n",
        "    for plantilla in plantillas_stats:\n",
        "        for edificio in edificios:\n",
        "            consultas_stats.append(plantilla.format(edificio=edificio))\n",
        "\n",
        "    for plantilla in plantillas_relaciones:\n",
        "        for edificio1 in edificios:\n",
        "            for edificio2 in edificios:\n",
        "                if edificio1 != edificio2:\n",
        "                    consultas_relaciones.append(plantilla.format(edificio1=edificio1, edificio2=edificio2))\n",
        "\n",
        "    # Crear DataFrame\n",
        "    dataset = []\n",
        "\n",
        "    for consulta in consultas_info[:120]:  # Limitar para balancear\n",
        "        dataset.append({'consulta': consulta, 'categoria': 'Información'})\n",
        "\n",
        "    for consulta in consultas_stats[:120]:\n",
        "        dataset.append({'consulta': consulta, 'categoria': 'Estadística'})\n",
        "\n",
        "    for consulta in consultas_relaciones[:120]:\n",
        "        dataset.append({'consulta': consulta, 'categoria': 'Relaciones'})\n",
        "\n",
        "    df_consultas = pd.DataFrame(dataset)\n",
        "\n",
        "    # Mezclar el dataset\n",
        "    df_consultas = df_consultas.sample(frac=1).reset_index(drop=True)\n",
        "\n",
        "    print(f\"Dataset generado con {len(df_consultas)} consultas\")\n",
        "    print(df_consultas['categoria'].value_counts())\n",
        "\n",
        "    return df_consultas"
      ],
      "metadata": {
        "id": "tjRQRTevLYcr"
      },
      "execution_count": 30,
      "outputs": []
    },
    {
      "cell_type": "markdown",
      "source": [
        "### Funcion para entrenar los modelos"
      ],
      "metadata": {
        "id": "5M7_mBWVMbhA"
      }
    },
    {
      "cell_type": "code",
      "source": [
        "def entrenar_clasificador_consultas(df_consultas):\n",
        "    \"\"\"Entrena múltiples modelos para clasificar consultas\"\"\"\n",
        "\n",
        "    from sklearn.model_selection import train_test_split\n",
        "    from sklearn.linear_model import LogisticRegression\n",
        "    from sklearn.svm import SVC\n",
        "    from sklearn.ensemble import RandomForestClassifier\n",
        "    from sklearn.naive_bayes import MultinomialNB\n",
        "    from sklearn.metrics import classification_report, confusion_matrix\n",
        "\n",
        "    # Preparar datos\n",
        "    X = df_consultas['consulta']\n",
        "    y = df_consultas['categoria']\n",
        "\n",
        "    # Dividir datos\n",
        "    X_train, X_test, y_train, y_test = train_test_split(X, y, test_size=0.2, random_state=42, stratify=y)\n",
        "\n",
        "    # Vectorizar\n",
        "    vectorizador = TfidfVectorizer(max_features=1000, ngram_range=(1, 2))\n",
        "    X_train_vec = vectorizador.fit_transform(X_train)\n",
        "    X_test_vec = vectorizador.transform(X_test)\n",
        "\n",
        "    # Entrenar múltiples modelos\n",
        "    modelos = {\n",
        "        'Logistic Regression': LogisticRegression(random_state=42),\n",
        "        'SVM': SVC(random_state=42),\n",
        "        'Random Forest': RandomForestClassifier(random_state=42),\n",
        "        'Naive Bayes': MultinomialNB()\n",
        "    }\n",
        "\n",
        "    resultados = {}\n",
        "\n",
        "    for nombre, modelo in modelos.items():\n",
        "        print(f\"\\nEntrenando {nombre}...\")\n",
        "\n",
        "        # Entrenar\n",
        "        modelo.fit(X_train_vec, y_train)\n",
        "\n",
        "        # Predecir\n",
        "        y_pred = modelo.predict(X_test_vec)\n",
        "\n",
        "        # Evaluar\n",
        "        print(f\"\\n--- {nombre} ---\")\n",
        "        print(classification_report(y_test, y_pred))\n",
        "\n",
        "        resultados[nombre] = {\n",
        "            'modelo': modelo,\n",
        "            'accuracy': modelo.score(X_test_vec, y_test)\n",
        "        }\n",
        "\n",
        "    # Retornar el mejor modelo\n",
        "    mejor_modelo = max(resultados.items(), key=lambda x: x[1]['accuracy'])\n",
        "    print(f\"\\nMejor modelo: {mejor_modelo[0]} con accuracy: {mejor_modelo[1]['accuracy']:.3f}\")\n",
        "\n",
        "    return vectorizador, mejor_modelo[1]['modelo'], resultados\n"
      ],
      "metadata": {
        "id": "VHIJrrtRMrmG"
      },
      "execution_count": 31,
      "outputs": []
    },
    {
      "cell_type": "code",
      "source": [
        "df_consultas = generar_dataset_consultas()\n",
        "vectorizador, modelo, resultados = entrenar_clasificador_consultas(df_consultas)\n",
        "\n",
        "print(vectorizador, modelo, df_consultas)"
      ],
      "metadata": {
        "colab": {
          "base_uri": "https://localhost:8080/"
        },
        "id": "Lnhwbelcgxbz",
        "outputId": "6cabf4df-db7f-4a71-8b5b-5de905e531d2"
      },
      "execution_count": 32,
      "outputs": [
        {
          "output_type": "stream",
          "name": "stdout",
          "text": [
            "Dataset generado con 235 consultas\n",
            "categoria\n",
            "Relaciones     120\n",
            "Información     60\n",
            "Estadística     55\n",
            "Name: count, dtype: int64\n",
            "\n",
            "Entrenando Logistic Regression...\n",
            "\n",
            "--- Logistic Regression ---\n",
            "              precision    recall  f1-score   support\n",
            "\n",
            " Estadística       1.00      1.00      1.00        11\n",
            " Información       0.83      0.83      0.83        12\n",
            "  Relaciones       0.92      0.92      0.92        24\n",
            "\n",
            "    accuracy                           0.91        47\n",
            "   macro avg       0.92      0.92      0.92        47\n",
            "weighted avg       0.91      0.91      0.91        47\n",
            "\n",
            "\n",
            "Entrenando SVM...\n",
            "\n",
            "--- SVM ---\n",
            "              precision    recall  f1-score   support\n",
            "\n",
            " Estadística       1.00      1.00      1.00        11\n",
            " Información       0.86      1.00      0.92        12\n",
            "  Relaciones       1.00      0.92      0.96        24\n",
            "\n",
            "    accuracy                           0.96        47\n",
            "   macro avg       0.95      0.97      0.96        47\n",
            "weighted avg       0.96      0.96      0.96        47\n",
            "\n",
            "\n",
            "Entrenando Random Forest...\n",
            "\n",
            "--- Random Forest ---\n",
            "              precision    recall  f1-score   support\n",
            "\n",
            " Estadística       1.00      0.91      0.95        11\n",
            " Información       0.80      1.00      0.89        12\n",
            "  Relaciones       1.00      0.92      0.96        24\n",
            "\n",
            "    accuracy                           0.94        47\n",
            "   macro avg       0.93      0.94      0.93        47\n",
            "weighted avg       0.95      0.94      0.94        47\n",
            "\n",
            "\n",
            "Entrenando Naive Bayes...\n",
            "\n",
            "--- Naive Bayes ---\n",
            "              precision    recall  f1-score   support\n",
            "\n",
            " Estadística       1.00      1.00      1.00        11\n",
            " Información       0.89      0.67      0.76        12\n",
            "  Relaciones       0.85      0.96      0.90        24\n",
            "\n",
            "    accuracy                           0.89        47\n",
            "   macro avg       0.91      0.88      0.89        47\n",
            "weighted avg       0.90      0.89      0.89        47\n",
            "\n",
            "\n",
            "Mejor modelo: SVM con accuracy: 0.957\n",
            "TfidfVectorizer(max_features=1000, ngram_range=(1, 2)) SVC(random_state=42)                                               consulta    categoria\n",
            "0              ¿Qué relación hay entre granary y farm?   Relaciones\n",
            "1                   ¿Cómo interactúa well con cottage?   Relaciones\n",
            "2               ¿Qué relación hay entre farm y chapel?   Relaciones\n",
            "3                      ¿Cuándo se puede usar monument?  Información\n",
            "4    ¿Cuál es la eficiencia por espacio de cada edi...  Estadística\n",
            "..                                                 ...          ...\n",
            "230                 ¿Cuál es la eficiencia de cottage?  Estadística\n",
            "231                            ¿Cómo funciona factory?  Información\n",
            "232   ¿Qué edificios dependen de otros para funcionar?   Relaciones\n",
            "233                   ¿Cuál es la puntuación promedio?  Estadística\n",
            "234          ¿Qué estrategia tiene mayor consistencia?  Estadística\n",
            "\n",
            "[235 rows x 2 columns]\n"
          ]
        }
      ]
    }
  ]
}